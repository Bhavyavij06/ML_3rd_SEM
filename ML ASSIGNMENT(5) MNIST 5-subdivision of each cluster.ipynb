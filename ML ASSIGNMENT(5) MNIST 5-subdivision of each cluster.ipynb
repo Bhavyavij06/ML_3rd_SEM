{
 "cells": [
  {
   "cell_type": "markdown",
   "id": "9e2a2b5e",
   "metadata": {},
   "source": [
    "# Import Data"
   ]
  },
  {
   "cell_type": "code",
   "execution_count": 1,
   "id": "40bc77ad",
   "metadata": {},
   "outputs": [],
   "source": [
    "import pandas as pd\n",
    "import numpy as np\n",
    "train_data_set = pd.read_csv(r\"C:\\Users\\bhavy\\OneDrive\\Desktop\\SEM 3\\MACHINE LEARNING\\Data set\\mnist_train.csv\")\n",
    "test_data_set = pd.read_csv(r\"C:\\Users\\bhavy\\OneDrive\\Desktop\\SEM 3\\MACHINE LEARNING\\Data set\\mnist_test.csv\")\n",
    "train_data_set = train_data_set.sample(frac=1)"
   ]
  },
  {
   "cell_type": "markdown",
   "id": "4835fcd3",
   "metadata": {},
   "source": [
    "# To Numpy"
   ]
  },
  {
   "cell_type": "code",
   "execution_count": 2,
   "id": "fe386d28",
   "metadata": {},
   "outputs": [],
   "source": [
    "train_numpy = train_data_set.to_numpy()\n",
    "test_numpy = test_data_set.to_numpy()\n",
    "train_labels = np.unique(train_numpy[:,0])"
   ]
  },
  {
   "cell_type": "code",
   "execution_count": 3,
   "id": "5d229d83",
   "metadata": {},
   "outputs": [
    {
     "data": {
      "text/plain": [
       "array([0, 1, 2, 3, 4, 5, 6, 7, 8, 9], dtype=int64)"
      ]
     },
     "execution_count": 3,
     "metadata": {},
     "output_type": "execute_result"
    }
   ],
   "source": [
    "train_labels"
   ]
  },
  {
   "cell_type": "code",
   "execution_count": 4,
   "id": "628bcb2e",
   "metadata": {},
   "outputs": [
    {
     "name": "stdout",
     "output_type": "stream",
     "text": [
      "60000\n"
     ]
    }
   ],
   "source": [
    "print(len(train_numpy))"
   ]
  },
  {
   "cell_type": "markdown",
   "id": "6ed6f532",
   "metadata": {},
   "source": [
    "# Clustering"
   ]
  },
  {
   "cell_type": "code",
   "execution_count": 5,
   "id": "999e04f4",
   "metadata": {},
   "outputs": [],
   "source": [
    "cluster = {}\n",
    "for i in train_labels:\n",
    "    cluster[i] = train_numpy[np.where(train_numpy[:,0] == i)][:,1:]"
   ]
  },
  {
   "cell_type": "code",
   "execution_count": 6,
   "id": "312d0dd5",
   "metadata": {},
   "outputs": [
    {
     "data": {
      "text/plain": [
       "6742"
      ]
     },
     "execution_count": 6,
     "metadata": {},
     "output_type": "execute_result"
    }
   ],
   "source": [
    "len(cluster[1])"
   ]
  },
  {
   "cell_type": "code",
   "execution_count": 7,
   "id": "1ce8d0e5",
   "metadata": {},
   "outputs": [
    {
     "data": {
      "text/plain": [
       "5958"
      ]
     },
     "execution_count": 7,
     "metadata": {},
     "output_type": "execute_result"
    }
   ],
   "source": [
    "len(cluster[2])"
   ]
  },
  {
   "cell_type": "code",
   "execution_count": 8,
   "id": "35608347",
   "metadata": {},
   "outputs": [],
   "source": [
    "key_list = list(cluster.keys())"
   ]
  },
  {
   "cell_type": "markdown",
   "id": "978190da",
   "metadata": {},
   "source": [
    "# Sampling"
   ]
  },
  {
   "cell_type": "code",
   "execution_count": 9,
   "id": "73011215",
   "metadata": {},
   "outputs": [],
   "source": [
    "sampling = {}\n",
    "for i in range(10):\n",
    "    sampling[i] = np.array_split(cluster[i] , 5)"
   ]
  },
  {
   "cell_type": "code",
   "execution_count": 10,
   "id": "6dd22b41",
   "metadata": {},
   "outputs": [
    {
     "data": {
      "text/plain": [
       "10"
      ]
     },
     "execution_count": 10,
     "metadata": {},
     "output_type": "execute_result"
    }
   ],
   "source": [
    "len(sampling)"
   ]
  },
  {
   "cell_type": "code",
   "execution_count": 11,
   "id": "fd340332",
   "metadata": {},
   "outputs": [
    {
     "data": {
      "text/plain": [
       "5"
      ]
     },
     "execution_count": 11,
     "metadata": {},
     "output_type": "execute_result"
    }
   ],
   "source": [
    "len(sampling[i])"
   ]
  },
  {
   "cell_type": "code",
   "execution_count": 13,
   "id": "f5c10728",
   "metadata": {},
   "outputs": [
    {
     "data": {
      "text/plain": [
       "784"
      ]
     },
     "execution_count": 13,
     "metadata": {},
     "output_type": "execute_result"
    }
   ],
   "source": [
    "len(np.mean(sampling[0][4],axis=0))"
   ]
  },
  {
   "cell_type": "code",
   "execution_count": 14,
   "id": "4fefdbad",
   "metadata": {},
   "outputs": [
    {
     "data": {
      "text/plain": [
       "5"
      ]
     },
     "execution_count": 14,
     "metadata": {},
     "output_type": "execute_result"
    }
   ],
   "source": [
    "len(sampling[2])"
   ]
  },
  {
   "cell_type": "markdown",
   "id": "097c8976",
   "metadata": {},
   "source": [
    "# Mean  Calculation"
   ]
  },
  {
   "cell_type": "code",
   "execution_count": 18,
   "id": "d1fb9a5b",
   "metadata": {},
   "outputs": [
    {
     "data": {
      "text/plain": [
       "range(0, 784)"
      ]
     },
     "execution_count": 18,
     "metadata": {},
     "output_type": "execute_result"
    }
   ],
   "source": [
    "range(j.shape[1])"
   ]
  },
  {
   "cell_type": "code",
   "execution_count": 17,
   "id": "1db86579",
   "metadata": {},
   "outputs": [],
   "source": [
    "mean = {}\n",
    "for i in range(len(sampling)):\n",
    "    list_ = []\n",
    "    for j in sampling[i]:\n",
    "        list_.append([j[:,k].mean() for k in range(j.shape[1])])\n",
    "    mean[i] = np.array(list_)"
   ]
  },
  {
   "cell_type": "code",
   "execution_count": 19,
   "id": "9d11a9bd",
   "metadata": {},
   "outputs": [
    {
     "data": {
      "text/plain": [
       "5"
      ]
     },
     "execution_count": 19,
     "metadata": {},
     "output_type": "execute_result"
    }
   ],
   "source": [
    "len(mean[i])"
   ]
  },
  {
   "cell_type": "markdown",
   "id": "2903f0d0",
   "metadata": {},
   "source": [
    "# Calculating Distance"
   ]
  },
  {
   "cell_type": "code",
   "execution_count": 20,
   "id": "8ec2df00",
   "metadata": {},
   "outputs": [],
   "source": [
    "def distance(a,b):\n",
    "    return np.sqrt(np.sum(np.square(np.subtract(a,b))))"
   ]
  },
  {
   "cell_type": "code",
   "execution_count": 21,
   "id": "9434e197",
   "metadata": {},
   "outputs": [],
   "source": [
    "def function(test_point):\n",
    "    dist={}\n",
    "    for i in range(10):\n",
    "        for j in mean[i]:\n",
    "            dis = distance(j,test_point)\n",
    "            dist[dis] = i\n",
    "    min5 = []\n",
    "    for i in sorted(dist)[:5]:\n",
    "        min5.append(dist[i])\n",
    "        return max(min5)"
   ]
  },
  {
   "cell_type": "code",
   "execution_count": 22,
   "id": "3ce88d9f",
   "metadata": {},
   "outputs": [],
   "source": [
    "actual_points = test_numpy[:,0]\n",
    "test_data = test_numpy[:,1:]"
   ]
  },
  {
   "cell_type": "code",
   "execution_count": 23,
   "id": "6c2d1af0",
   "metadata": {},
   "outputs": [
    {
     "data": {
      "text/plain": [
       "7"
      ]
     },
     "execution_count": 23,
     "metadata": {},
     "output_type": "execute_result"
    }
   ],
   "source": [
    "function(test_data[0])"
   ]
  },
  {
   "cell_type": "markdown",
   "id": "2b9e9a13",
   "metadata": {},
   "source": [
    "# Performance Testing"
   ]
  },
  {
   "cell_type": "code",
   "execution_count": 24,
   "id": "40191977",
   "metadata": {},
   "outputs": [
    {
     "data": {
      "text/plain": [
       "array([7, 2, 1, ..., 4, 5, 6])"
      ]
     },
     "execution_count": 24,
     "metadata": {},
     "output_type": "execute_result"
    }
   ],
   "source": [
    "output = []\n",
    "for i in test_data:\n",
    "    output.append(function(i))\n",
    "output = np.array(output)\n",
    "output"
   ]
  },
  {
   "cell_type": "code",
   "execution_count": 25,
   "id": "11b709e8",
   "metadata": {},
   "outputs": [
    {
     "data": {
      "text/plain": [
       "82.35"
      ]
     },
     "execution_count": 25,
     "metadata": {},
     "output_type": "execute_result"
    }
   ],
   "source": [
    "(sum(output==actual_points)/len(output))*100"
   ]
  }
 ],
 "metadata": {
  "kernelspec": {
   "display_name": "Python 3 (ipykernel)",
   "language": "python",
   "name": "python3"
  },
  "language_info": {
   "codemirror_mode": {
    "name": "ipython",
    "version": 3
   },
   "file_extension": ".py",
   "mimetype": "text/x-python",
   "name": "python",
   "nbconvert_exporter": "python",
   "pygments_lexer": "ipython3",
   "version": "3.9.12"
  }
 },
 "nbformat": 4,
 "nbformat_minor": 5
}
