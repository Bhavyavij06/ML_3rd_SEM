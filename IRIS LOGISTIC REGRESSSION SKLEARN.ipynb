{
 "cells": [
  {
   "cell_type": "markdown",
   "id": "eceaec63",
   "metadata": {},
   "source": [
    "# Logistic Regression using Sklearn on IRIS-DATASET"
   ]
  },
  {
   "cell_type": "code",
   "execution_count": 1,
   "id": "c9e16fcb",
   "metadata": {},
   "outputs": [],
   "source": [
    "import pandas as pd\n",
    "import numpy as np"
   ]
  },
  {
   "cell_type": "markdown",
   "id": "ce84e399",
   "metadata": {},
   "source": [
    "IMPORT DATASET"
   ]
  },
  {
   "cell_type": "code",
   "execution_count": 2,
   "id": "8905a10c",
   "metadata": {},
   "outputs": [
    {
     "data": {
      "text/html": [
       "<div>\n",
       "<style scoped>\n",
       "    .dataframe tbody tr th:only-of-type {\n",
       "        vertical-align: middle;\n",
       "    }\n",
       "\n",
       "    .dataframe tbody tr th {\n",
       "        vertical-align: top;\n",
       "    }\n",
       "\n",
       "    .dataframe thead th {\n",
       "        text-align: right;\n",
       "    }\n",
       "</style>\n",
       "<table border=\"1\" class=\"dataframe\">\n",
       "  <thead>\n",
       "    <tr style=\"text-align: right;\">\n",
       "      <th></th>\n",
       "      <th>sepal.length</th>\n",
       "      <th>sepal.width</th>\n",
       "      <th>petal.length</th>\n",
       "      <th>petal.width</th>\n",
       "      <th>variety</th>\n",
       "    </tr>\n",
       "  </thead>\n",
       "  <tbody>\n",
       "    <tr>\n",
       "      <th>0</th>\n",
       "      <td>5.1</td>\n",
       "      <td>3.5</td>\n",
       "      <td>1.4</td>\n",
       "      <td>0.2</td>\n",
       "      <td>Setosa</td>\n",
       "    </tr>\n",
       "    <tr>\n",
       "      <th>1</th>\n",
       "      <td>4.9</td>\n",
       "      <td>3.0</td>\n",
       "      <td>1.4</td>\n",
       "      <td>0.2</td>\n",
       "      <td>Setosa</td>\n",
       "    </tr>\n",
       "    <tr>\n",
       "      <th>2</th>\n",
       "      <td>4.7</td>\n",
       "      <td>3.2</td>\n",
       "      <td>1.3</td>\n",
       "      <td>0.2</td>\n",
       "      <td>Setosa</td>\n",
       "    </tr>\n",
       "    <tr>\n",
       "      <th>3</th>\n",
       "      <td>4.6</td>\n",
       "      <td>3.1</td>\n",
       "      <td>1.5</td>\n",
       "      <td>0.2</td>\n",
       "      <td>Setosa</td>\n",
       "    </tr>\n",
       "    <tr>\n",
       "      <th>4</th>\n",
       "      <td>5.0</td>\n",
       "      <td>3.6</td>\n",
       "      <td>1.4</td>\n",
       "      <td>0.2</td>\n",
       "      <td>Setosa</td>\n",
       "    </tr>\n",
       "    <tr>\n",
       "      <th>...</th>\n",
       "      <td>...</td>\n",
       "      <td>...</td>\n",
       "      <td>...</td>\n",
       "      <td>...</td>\n",
       "      <td>...</td>\n",
       "    </tr>\n",
       "    <tr>\n",
       "      <th>145</th>\n",
       "      <td>6.7</td>\n",
       "      <td>3.0</td>\n",
       "      <td>5.2</td>\n",
       "      <td>2.3</td>\n",
       "      <td>Virginica</td>\n",
       "    </tr>\n",
       "    <tr>\n",
       "      <th>146</th>\n",
       "      <td>6.3</td>\n",
       "      <td>2.5</td>\n",
       "      <td>5.0</td>\n",
       "      <td>1.9</td>\n",
       "      <td>Virginica</td>\n",
       "    </tr>\n",
       "    <tr>\n",
       "      <th>147</th>\n",
       "      <td>6.5</td>\n",
       "      <td>3.0</td>\n",
       "      <td>5.2</td>\n",
       "      <td>2.0</td>\n",
       "      <td>Virginica</td>\n",
       "    </tr>\n",
       "    <tr>\n",
       "      <th>148</th>\n",
       "      <td>6.2</td>\n",
       "      <td>3.4</td>\n",
       "      <td>5.4</td>\n",
       "      <td>2.3</td>\n",
       "      <td>Virginica</td>\n",
       "    </tr>\n",
       "    <tr>\n",
       "      <th>149</th>\n",
       "      <td>5.9</td>\n",
       "      <td>3.0</td>\n",
       "      <td>5.1</td>\n",
       "      <td>1.8</td>\n",
       "      <td>Virginica</td>\n",
       "    </tr>\n",
       "  </tbody>\n",
       "</table>\n",
       "<p>150 rows × 5 columns</p>\n",
       "</div>"
      ],
      "text/plain": [
       "     sepal.length  sepal.width  petal.length  petal.width    variety\n",
       "0             5.1          3.5           1.4          0.2     Setosa\n",
       "1             4.9          3.0           1.4          0.2     Setosa\n",
       "2             4.7          3.2           1.3          0.2     Setosa\n",
       "3             4.6          3.1           1.5          0.2     Setosa\n",
       "4             5.0          3.6           1.4          0.2     Setosa\n",
       "..            ...          ...           ...          ...        ...\n",
       "145           6.7          3.0           5.2          2.3  Virginica\n",
       "146           6.3          2.5           5.0          1.9  Virginica\n",
       "147           6.5          3.0           5.2          2.0  Virginica\n",
       "148           6.2          3.4           5.4          2.3  Virginica\n",
       "149           5.9          3.0           5.1          1.8  Virginica\n",
       "\n",
       "[150 rows x 5 columns]"
      ]
     },
     "execution_count": 2,
     "metadata": {},
     "output_type": "execute_result"
    }
   ],
   "source": [
    "data = pd.read_excel(r'C:\\Users\\bhavy\\OneDrive\\Desktop\\SEM 3\\MACHINE LEARNING\\data set\\iris dataset.xlsx')\n",
    "data"
   ]
  },
  {
   "cell_type": "markdown",
   "id": "8bd207e9",
   "metadata": {},
   "source": [
    "CREATE TRAIN AND TEST DATA AND SEPARATE X AND Y "
   ]
  },
  {
   "cell_type": "code",
   "execution_count": 3,
   "id": "6304af19",
   "metadata": {},
   "outputs": [
    {
     "data": {
      "text/plain": [
       "array(['Setosa', 'Versicolor', 'Virginica'], dtype=object)"
      ]
     },
     "execution_count": 3,
     "metadata": {},
     "output_type": "execute_result"
    }
   ],
   "source": [
    "data['variety'].unique()"
   ]
  },
  {
   "cell_type": "markdown",
   "id": "2a7d9015",
   "metadata": {},
   "source": [
    "MAPPING "
   ]
  },
  {
   "cell_type": "code",
   "execution_count": 4,
   "id": "7ce39235",
   "metadata": {},
   "outputs": [
    {
     "data": {
      "text/plain": [
       "{'Setosa': 1, 'Versicolor': 2, 'Virginica': 3}"
      ]
     },
     "execution_count": 4,
     "metadata": {},
     "output_type": "execute_result"
    }
   ],
   "source": [
    "set_class = set(data['variety'])\n",
    "val = [i+1 for i in range (len(set_class))]\n",
    "mapping = dict(zip(set_class,val))\n",
    "mapping"
   ]
  },
  {
   "cell_type": "code",
   "execution_count": 5,
   "id": "34b185eb",
   "metadata": {},
   "outputs": [
    {
     "data": {
      "text/html": [
       "<div>\n",
       "<style scoped>\n",
       "    .dataframe tbody tr th:only-of-type {\n",
       "        vertical-align: middle;\n",
       "    }\n",
       "\n",
       "    .dataframe tbody tr th {\n",
       "        vertical-align: top;\n",
       "    }\n",
       "\n",
       "    .dataframe thead th {\n",
       "        text-align: right;\n",
       "    }\n",
       "</style>\n",
       "<table border=\"1\" class=\"dataframe\">\n",
       "  <thead>\n",
       "    <tr style=\"text-align: right;\">\n",
       "      <th></th>\n",
       "      <th>sepal.length</th>\n",
       "      <th>sepal.width</th>\n",
       "      <th>petal.length</th>\n",
       "      <th>petal.width</th>\n",
       "      <th>variety</th>\n",
       "    </tr>\n",
       "  </thead>\n",
       "  <tbody>\n",
       "    <tr>\n",
       "      <th>0</th>\n",
       "      <td>5.1</td>\n",
       "      <td>3.5</td>\n",
       "      <td>1.4</td>\n",
       "      <td>0.2</td>\n",
       "      <td>1</td>\n",
       "    </tr>\n",
       "    <tr>\n",
       "      <th>1</th>\n",
       "      <td>4.9</td>\n",
       "      <td>3.0</td>\n",
       "      <td>1.4</td>\n",
       "      <td>0.2</td>\n",
       "      <td>1</td>\n",
       "    </tr>\n",
       "    <tr>\n",
       "      <th>2</th>\n",
       "      <td>4.7</td>\n",
       "      <td>3.2</td>\n",
       "      <td>1.3</td>\n",
       "      <td>0.2</td>\n",
       "      <td>1</td>\n",
       "    </tr>\n",
       "    <tr>\n",
       "      <th>3</th>\n",
       "      <td>4.6</td>\n",
       "      <td>3.1</td>\n",
       "      <td>1.5</td>\n",
       "      <td>0.2</td>\n",
       "      <td>1</td>\n",
       "    </tr>\n",
       "    <tr>\n",
       "      <th>4</th>\n",
       "      <td>5.0</td>\n",
       "      <td>3.6</td>\n",
       "      <td>1.4</td>\n",
       "      <td>0.2</td>\n",
       "      <td>1</td>\n",
       "    </tr>\n",
       "  </tbody>\n",
       "</table>\n",
       "</div>"
      ],
      "text/plain": [
       "   sepal.length  sepal.width  petal.length  petal.width  variety\n",
       "0           5.1          3.5           1.4          0.2        1\n",
       "1           4.9          3.0           1.4          0.2        1\n",
       "2           4.7          3.2           1.3          0.2        1\n",
       "3           4.6          3.1           1.5          0.2        1\n",
       "4           5.0          3.6           1.4          0.2        1"
      ]
     },
     "execution_count": 5,
     "metadata": {},
     "output_type": "execute_result"
    }
   ],
   "source": [
    "data = data.replace({'variety' : mapping})\n",
    "data.head()"
   ]
  },
  {
   "cell_type": "code",
   "execution_count": 6,
   "id": "f2c0bda1",
   "metadata": {},
   "outputs": [],
   "source": [
    "x,y = data.drop('variety' , axis=1) , data['variety']"
   ]
  },
  {
   "cell_type": "markdown",
   "id": "1133e17d",
   "metadata": {},
   "source": [
    "SPLITTING THE DATASET"
   ]
  },
  {
   "cell_type": "code",
   "execution_count": 7,
   "id": "ac8fa019",
   "metadata": {},
   "outputs": [],
   "source": [
    "import sklearn.model_selection as skm"
   ]
  },
  {
   "cell_type": "code",
   "execution_count": 8,
   "id": "334449e5",
   "metadata": {},
   "outputs": [],
   "source": [
    "x_train , x_test , y_train , y_test = skm.train_test_split(x,y,test_size = 0.2)"
   ]
  },
  {
   "cell_type": "code",
   "execution_count": 9,
   "id": "e21b8ab9",
   "metadata": {},
   "outputs": [
    {
     "data": {
      "text/plain": [
       "(     sepal.length  sepal.width  petal.length  petal.width\n",
       " 6             4.6          3.4           1.4          0.3\n",
       " 30            4.8          3.1           1.6          0.2\n",
       " 37            4.9          3.6           1.4          0.1\n",
       " 9             4.9          3.1           1.5          0.1\n",
       " 19            5.1          3.8           1.5          0.3\n",
       " ..            ...          ...           ...          ...\n",
       " 117           7.7          3.8           6.7          2.2\n",
       " 111           6.4          2.7           5.3          1.9\n",
       " 148           6.2          3.4           5.4          2.3\n",
       " 52            6.9          3.1           4.9          1.5\n",
       " 113           5.7          2.5           5.0          2.0\n",
       " \n",
       " [120 rows x 4 columns],\n",
       " 6      1\n",
       " 30     1\n",
       " 37     1\n",
       " 9      1\n",
       " 19     1\n",
       "       ..\n",
       " 117    3\n",
       " 111    3\n",
       " 148    3\n",
       " 52     2\n",
       " 113    3\n",
       " Name: variety, Length: 120, dtype: int64)"
      ]
     },
     "execution_count": 9,
     "metadata": {},
     "output_type": "execute_result"
    }
   ],
   "source": [
    "x_train ,y_train"
   ]
  },
  {
   "cell_type": "code",
   "execution_count": 10,
   "id": "d5c2932f",
   "metadata": {},
   "outputs": [
    {
     "data": {
      "text/plain": [
       "(30, 4)"
      ]
     },
     "execution_count": 10,
     "metadata": {},
     "output_type": "execute_result"
    }
   ],
   "source": [
    "x_test.shape"
   ]
  },
  {
   "cell_type": "code",
   "execution_count": 11,
   "id": "7baa753f",
   "metadata": {},
   "outputs": [
    {
     "data": {
      "text/plain": [
       "array([3, 2, 1], dtype=int64)"
      ]
     },
     "execution_count": 11,
     "metadata": {},
     "output_type": "execute_result"
    }
   ],
   "source": [
    "y_test.unique()"
   ]
  },
  {
   "cell_type": "markdown",
   "id": "7515fd4b",
   "metadata": {},
   "source": [
    "LOGISTIC REGRESSION"
   ]
  },
  {
   "cell_type": "code",
   "execution_count": 12,
   "id": "4b36e8d7",
   "metadata": {},
   "outputs": [
    {
     "data": {
      "text/plain": [
       "LogisticRegression()"
      ]
     },
     "execution_count": 12,
     "metadata": {},
     "output_type": "execute_result"
    }
   ],
   "source": [
    "import sklearn.linear_model as sklm\n",
    "reg = sklm.LogisticRegression()\n",
    "reg.fit(x_train , y_train)"
   ]
  },
  {
   "cell_type": "code",
   "execution_count": 13,
   "id": "a4101935",
   "metadata": {},
   "outputs": [
    {
     "data": {
      "text/plain": [
       "0.9833333333333333"
      ]
     },
     "execution_count": 13,
     "metadata": {},
     "output_type": "execute_result"
    }
   ],
   "source": [
    "reg.score(x_train , y_train)"
   ]
  },
  {
   "cell_type": "code",
   "execution_count": 22,
   "id": "b69488b9",
   "metadata": {},
   "outputs": [
    {
     "name": "stdout",
     "output_type": "stream",
     "text": [
      "<class 'numpy.ndarray'>\n"
     ]
    },
    {
     "data": {
      "text/plain": [
       "array([3, 2, 2, 2, 2, 3, 3, 1, 1, 2, 3, 1, 2, 1, 3, 3, 1, 3, 1, 3, 1, 2,\n",
       "       2, 2, 2, 1, 2, 2, 2, 3], dtype=int64)"
      ]
     },
     "execution_count": 22,
     "metadata": {},
     "output_type": "execute_result"
    }
   ],
   "source": [
    "y_pred_reg = reg.predict(x_test)\n",
    "print(type(y_pred_reg))\n",
    "y_pred_reg"
   ]
  },
  {
   "cell_type": "code",
   "execution_count": 15,
   "id": "164c0ece",
   "metadata": {},
   "outputs": [
    {
     "data": {
      "text/plain": [
       "(30,)"
      ]
     },
     "execution_count": 15,
     "metadata": {},
     "output_type": "execute_result"
    }
   ],
   "source": [
    "y_pred_reg.shape"
   ]
  },
  {
   "cell_type": "code",
   "execution_count": 16,
   "id": "daa228f8",
   "metadata": {},
   "outputs": [
    {
     "data": {
      "text/plain": [
       "1"
      ]
     },
     "execution_count": 16,
     "metadata": {},
     "output_type": "execute_result"
    }
   ],
   "source": [
    "y_pred_reg.ndim"
   ]
  },
  {
   "cell_type": "code",
   "execution_count": 23,
   "id": "98f52b08",
   "metadata": {},
   "outputs": [
    {
     "data": {
      "text/plain": [
       "0.9333333333333333"
      ]
     },
     "execution_count": 23,
     "metadata": {},
     "output_type": "execute_result"
    }
   ],
   "source": [
    "reg.score(x_test,y_test) # accuracy is coming out to be 93.3333333333%"
   ]
  },
  {
   "cell_type": "code",
   "execution_count": 25,
   "id": "9241c040",
   "metadata": {},
   "outputs": [
    {
     "name": "stdout",
     "output_type": "stream",
     "text": [
      "True,True,True,True,True,True,True,True,True,True,False,True,True,True,True,True,True,True,True,True,True,False,True,True,True,True,True,True,True,True,"
     ]
    }
   ],
   "source": [
    "for i in range(30):\n",
    "    print(y_pred_reg[i] == np.array(y_test)[i] , end=',')"
   ]
  },
  {
   "cell_type": "markdown",
   "id": "28f4a6ae",
   "metadata": {},
   "source": [
    "ACCURACY"
   ]
  },
  {
   "cell_type": "code",
   "execution_count": 27,
   "id": "123b0597",
   "metadata": {},
   "outputs": [
    {
     "name": "stdout",
     "output_type": "stream",
     "text": [
      "correct =  28 : incorrect =  2\n",
      "Accuracy percentage of the algorithm is =  93.33333333333333\n"
     ]
    }
   ],
   "source": [
    "correct = 0\n",
    "incorrect = 0\n",
    "for i in range(30):\n",
    "    if y_pred_reg[i] == np.array(y_test)[i]:\n",
    "        correct += 1\n",
    "               \n",
    "accuracy = (correct/30) * 100\n",
    "incorrect = 30 - correct\n",
    "\n",
    "print('correct = ',correct,': incorrect = ', incorrect)\n",
    "print('Accuracy percentage of the algorithm is = ', accuracy)"
   ]
  },
  {
   "cell_type": "markdown",
   "id": "8812bc2f",
   "metadata": {},
   "source": [
    "CONFUSION MATRIX"
   ]
  },
  {
   "cell_type": "raw",
   "id": "a464ddb0",
   "metadata": {},
   "source": [
    "Reference : https://youtu.be/87Zebzxzh-A"
   ]
  },
  {
   "cell_type": "code",
   "execution_count": 28,
   "id": "b61fb927",
   "metadata": {},
   "outputs": [],
   "source": [
    "from sklearn.metrics import confusion_matrix\n",
    "from sklearn.metrics import plot_confusion_matrix"
   ]
  },
  {
   "cell_type": "code",
   "execution_count": 29,
   "id": "52ab93f2",
   "metadata": {},
   "outputs": [
    {
     "data": {
      "text/plain": [
       "array([[ 8,  0,  0],\n",
       "       [ 0, 12,  1],\n",
       "       [ 0,  1,  8]], dtype=int64)"
      ]
     },
     "execution_count": 29,
     "metadata": {},
     "output_type": "execute_result"
    }
   ],
   "source": [
    "confusion_matrix(y_test , y_pred_reg)\n",
    "# sum of diagonal 8 + 12 + 8 = 28\n",
    "# 28/30 = 93.33333333333\n",
    "# way to check"
   ]
  },
  {
   "cell_type": "code",
   "execution_count": 34,
   "id": "c9d5fac3",
   "metadata": {},
   "outputs": [
    {
     "name": "stderr",
     "output_type": "stream",
     "text": [
      "C:\\Users\\bhavy\\anaconda3\\lib\\site-packages\\sklearn\\utils\\deprecation.py:87: FutureWarning: Function plot_confusion_matrix is deprecated; Function `plot_confusion_matrix` is deprecated in 1.0 and will be removed in 1.2. Use one of the class methods: ConfusionMatrixDisplay.from_predictions or ConfusionMatrixDisplay.from_estimator.\n",
      "  warnings.warn(msg, category=FutureWarning)\n"
     ]
    },
    {
     "data": {
      "image/png": "[encoded data removed]",
      "text/plain": [
       "<Figure size 432x288 with 2 Axes>"
      ]
     },
     "metadata": {
      "needs_background": "light"
     },
     "output_type": "display_data"
    }
   ],
   "source": [
    "import matplotlib.pyplot as plt\n",
    "matrix = plot_confusion_matrix(reg , x_test , y_test , cmap=plt.cm.Reds)"
   ]
  },
  {
   "cell_type": "markdown",
   "id": "d582598b",
   "metadata": {},
   "source": [
    "PRECISION (TP/TP+FP)"
   ]
  },
  {
   "cell_type": "code",
   "execution_count": 41,
   "id": "71658550",
   "metadata": {},
   "outputs": [
    {
     "data": {
      "text/plain": [
       "100.0"
      ]
     },
     "execution_count": 41,
     "metadata": {},
     "output_type": "execute_result"
    }
   ],
   "source": [
    "# FOR CLASS 1 IRIS-SETOSA\n",
    "precision_1 = 8/(8+0+0)\n",
    "precision_1*100"
   ]
  },
  {
   "cell_type": "code",
   "execution_count": 42,
   "id": "a68854f3",
   "metadata": {},
   "outputs": [
    {
     "data": {
      "text/plain": [
       "92.3076923076923"
      ]
     },
     "execution_count": 42,
     "metadata": {},
     "output_type": "execute_result"
    }
   ],
   "source": [
    "# FOR CLASS 2 IRIS-VERSICOLOR\n",
    "precision_2 = 12/(0+12+1)\n",
    "precision_2*100"
   ]
  },
  {
   "cell_type": "code",
   "execution_count": 44,
   "id": "ba3cfc25",
   "metadata": {},
   "outputs": [
    {
     "data": {
      "text/plain": [
       "88.88888888888889"
      ]
     },
     "execution_count": 44,
     "metadata": {},
     "output_type": "execute_result"
    }
   ],
   "source": [
    "# FOR CLASS 3 IRIS-VIRGINICA\n",
    "precision_3 = 8/(0+1+8)\n",
    "precision_3*100"
   ]
  },
  {
   "cell_type": "markdown",
   "id": "1f19082e",
   "metadata": {},
   "source": [
    "RECALL (TP/TP+FN)"
   ]
  },
  {
   "cell_type": "code",
   "execution_count": 45,
   "id": "0552b442",
   "metadata": {},
   "outputs": [
    {
     "data": {
      "text/plain": [
       "100.0"
      ]
     },
     "execution_count": 45,
     "metadata": {},
     "output_type": "execute_result"
    }
   ],
   "source": [
    "# FOR CLASS 1 IRIS-SETOSA\n",
    "recall_1 = 8/(8+0+0)\n",
    "recall_1*100"
   ]
  },
  {
   "cell_type": "code",
   "execution_count": 46,
   "id": "d02d4519",
   "metadata": {},
   "outputs": [
    {
     "data": {
      "text/plain": [
       "92.3076923076923"
      ]
     },
     "execution_count": 46,
     "metadata": {},
     "output_type": "execute_result"
    }
   ],
   "source": [
    "# FOR CLASS 2 IRIS-VERSICOLOR\n",
    "recall_2 = 12/(0+12+1)\n",
    "recall_2*100"
   ]
  },
  {
   "cell_type": "code",
   "execution_count": 47,
   "id": "ffa221e3",
   "metadata": {},
   "outputs": [
    {
     "data": {
      "text/plain": [
       "88.88888888888889"
      ]
     },
     "execution_count": 47,
     "metadata": {},
     "output_type": "execute_result"
    }
   ],
   "source": [
    "# FOR CLASS 3 IRIS-VIRGINICA\n",
    "recall_3 = 8/(0+1+8)\n",
    "recall_3*100"
   ]
  },
  {
   "cell_type": "markdown",
   "id": "ac9a4975",
   "metadata": {},
   "source": [
    "F SCORE (HARMONIC MEAN) 2 x [(Precision x Recall) / (Precision + Recall)]"
   ]
  },
  {
   "cell_type": "code",
   "execution_count": 53,
   "id": "653ed494",
   "metadata": {},
   "outputs": [
    {
     "data": {
      "text/plain": [
       "1.0"
      ]
     },
     "execution_count": 53,
     "metadata": {},
     "output_type": "execute_result"
    }
   ],
   "source": [
    "# FOR CLASS 1 IRIS-SETOSA\n",
    "f_score_1 = 2 * ((precision_1 * recall_1) / (precision_1 + recall_1))\n",
    "f_score_1"
   ]
  },
  {
   "cell_type": "code",
   "execution_count": 54,
   "id": "cddb8418",
   "metadata": {},
   "outputs": [
    {
     "data": {
      "text/plain": [
       "0.9230769230769231"
      ]
     },
     "execution_count": 54,
     "metadata": {},
     "output_type": "execute_result"
    }
   ],
   "source": [
    "# FOR CLASS 2 IRIS-VERSICOLOR\n",
    "f_score_2 = 2 * ((precision_2 * recall_2) / (precision_2 + recall_2))\n",
    "f_score_2"
   ]
  },
  {
   "cell_type": "code",
   "execution_count": null,
   "id": "24e8a6d7",
   "metadata": {},
   "outputs": [],
   "source": [
    "# FOR CLASS 3 IRIS-VIRGINICA\n",
    "f_score_3 = 2 * ((precision_2 * recall_2) / (precision_2 + recall_2))\n",
    "f_score_3"
   ]
  }
 ],
 "metadata": {
  "kernelspec": {
   "display_name": "Python 3 (ipykernel)",
   "language": "python",
   "name": "python3"
  },
  "language_info": {
   "codemirror_mode": {
    "name": "ipython",
    "version": 3
   },
   "file_extension": ".py",
   "mimetype": "text/x-python",
   "name": "python",
   "nbconvert_exporter": "python",
   "pygments_lexer": "ipython3",
   "version": "3.9.12"
  }
 },
 "nbformat": 4,
 "nbformat_minor": 5
}
