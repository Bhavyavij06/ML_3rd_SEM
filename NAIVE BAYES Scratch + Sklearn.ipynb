{
 "cells": [
  {
   "cell_type": "markdown",
   "id": "31e5853a",
   "metadata": {},
   "source": [
    "# Naive Bayes' From Scratch "
   ]
  },
  {
   "cell_type": "code",
   "execution_count": 1,
   "id": "14548b6f",
   "metadata": {},
   "outputs": [
    {
     "data": {
      "text/html": [
       "<div>\n",
       "<style scoped>\n",
       "    .dataframe tbody tr th:only-of-type {\n",
       "        vertical-align: middle;\n",
       "    }\n",
       "\n",
       "    .dataframe tbody tr th {\n",
       "        vertical-align: top;\n",
       "    }\n",
       "\n",
       "    .dataframe thead th {\n",
       "        text-align: right;\n",
       "    }\n",
       "</style>\n",
       "<table border=\"1\" class=\"dataframe\">\n",
       "  <thead>\n",
       "    <tr style=\"text-align: right;\">\n",
       "      <th></th>\n",
       "      <th>Sample</th>\n",
       "      <th>Gene A</th>\n",
       "      <th>Gene B</th>\n",
       "      <th>Gene C</th>\n",
       "      <th>Gene D</th>\n",
       "      <th>Class</th>\n",
       "    </tr>\n",
       "  </thead>\n",
       "  <tbody>\n",
       "    <tr>\n",
       "      <th>0</th>\n",
       "      <td>1</td>\n",
       "      <td>1</td>\n",
       "      <td>1</td>\n",
       "      <td>1</td>\n",
       "      <td>0</td>\n",
       "      <td>0</td>\n",
       "    </tr>\n",
       "    <tr>\n",
       "      <th>1</th>\n",
       "      <td>2</td>\n",
       "      <td>1</td>\n",
       "      <td>1</td>\n",
       "      <td>1</td>\n",
       "      <td>1</td>\n",
       "      <td>0</td>\n",
       "    </tr>\n",
       "    <tr>\n",
       "      <th>2</th>\n",
       "      <td>3</td>\n",
       "      <td>0</td>\n",
       "      <td>1</td>\n",
       "      <td>1</td>\n",
       "      <td>0</td>\n",
       "      <td>1</td>\n",
       "    </tr>\n",
       "    <tr>\n",
       "      <th>3</th>\n",
       "      <td>4</td>\n",
       "      <td>-1</td>\n",
       "      <td>0</td>\n",
       "      <td>1</td>\n",
       "      <td>0</td>\n",
       "      <td>1</td>\n",
       "    </tr>\n",
       "    <tr>\n",
       "      <th>4</th>\n",
       "      <td>5</td>\n",
       "      <td>-1</td>\n",
       "      <td>-1</td>\n",
       "      <td>0</td>\n",
       "      <td>0</td>\n",
       "      <td>1</td>\n",
       "    </tr>\n",
       "    <tr>\n",
       "      <th>5</th>\n",
       "      <td>6</td>\n",
       "      <td>-1</td>\n",
       "      <td>-1</td>\n",
       "      <td>0</td>\n",
       "      <td>1</td>\n",
       "      <td>0</td>\n",
       "    </tr>\n",
       "    <tr>\n",
       "      <th>6</th>\n",
       "      <td>7</td>\n",
       "      <td>0</td>\n",
       "      <td>-1</td>\n",
       "      <td>0</td>\n",
       "      <td>1</td>\n",
       "      <td>1</td>\n",
       "    </tr>\n",
       "    <tr>\n",
       "      <th>7</th>\n",
       "      <td>8</td>\n",
       "      <td>1</td>\n",
       "      <td>0</td>\n",
       "      <td>1</td>\n",
       "      <td>0</td>\n",
       "      <td>0</td>\n",
       "    </tr>\n",
       "    <tr>\n",
       "      <th>8</th>\n",
       "      <td>9</td>\n",
       "      <td>1</td>\n",
       "      <td>-1</td>\n",
       "      <td>0</td>\n",
       "      <td>0</td>\n",
       "      <td>1</td>\n",
       "    </tr>\n",
       "    <tr>\n",
       "      <th>9</th>\n",
       "      <td>10</td>\n",
       "      <td>-1</td>\n",
       "      <td>0</td>\n",
       "      <td>0</td>\n",
       "      <td>0</td>\n",
       "      <td>1</td>\n",
       "    </tr>\n",
       "    <tr>\n",
       "      <th>10</th>\n",
       "      <td>11</td>\n",
       "      <td>1</td>\n",
       "      <td>0</td>\n",
       "      <td>0</td>\n",
       "      <td>1</td>\n",
       "      <td>1</td>\n",
       "    </tr>\n",
       "    <tr>\n",
       "      <th>11</th>\n",
       "      <td>12</td>\n",
       "      <td>0</td>\n",
       "      <td>0</td>\n",
       "      <td>1</td>\n",
       "      <td>1</td>\n",
       "      <td>1</td>\n",
       "    </tr>\n",
       "    <tr>\n",
       "      <th>12</th>\n",
       "      <td>13</td>\n",
       "      <td>0</td>\n",
       "      <td>1</td>\n",
       "      <td>0</td>\n",
       "      <td>0</td>\n",
       "      <td>1</td>\n",
       "    </tr>\n",
       "    <tr>\n",
       "      <th>13</th>\n",
       "      <td>14</td>\n",
       "      <td>-1</td>\n",
       "      <td>0</td>\n",
       "      <td>1</td>\n",
       "      <td>1</td>\n",
       "      <td>0</td>\n",
       "    </tr>\n",
       "    <tr>\n",
       "      <th>14</th>\n",
       "      <td>15</td>\n",
       "      <td>1</td>\n",
       "      <td>-1</td>\n",
       "      <td>1</td>\n",
       "      <td>1</td>\n",
       "      <td></td>\n",
       "    </tr>\n",
       "  </tbody>\n",
       "</table>\n",
       "</div>"
      ],
      "text/plain": [
       "    Sample  Gene A  Gene B  Gene C  Gene D Class\n",
       "0        1       1       1       1       0     0\n",
       "1        2       1       1       1       1     0\n",
       "2        3       0       1       1       0     1\n",
       "3        4      -1       0       1       0     1\n",
       "4        5      -1      -1       0       0     1\n",
       "5        6      -1      -1       0       1     0\n",
       "6        7       0      -1       0       1     1\n",
       "7        8       1       0       1       0     0\n",
       "8        9       1      -1       0       0     1\n",
       "9       10      -1       0       0       0     1\n",
       "10      11       1       0       0       1     1\n",
       "11      12       0       0       1       1     1\n",
       "12      13       0       1       0       0     1\n",
       "13      14      -1       0       1       1     0\n",
       "14      15       1      -1       1       1      "
      ]
     },
     "execution_count": 1,
     "metadata": {},
     "output_type": "execute_result"
    }
   ],
   "source": [
    "import numpy as np\n",
    "import pandas as pd\n",
    "\n",
    "# lET NORMAL = 0 , TUMOR = 1\n",
    "data = {'Sample':[1,2,3,4,5,6,7,8,9,10,11,12,13,14,15], \n",
    "        'Gene A':[1,1,0,-1,-1,-1,0,1,1,-1,1,0,0,-1,1],\n",
    "        'Gene B':[1,1,1,0,-1,-1,-1,0,-1,0,0,0,1,0,-1], \n",
    "        'Gene C':[1,1,1,1,0,0,0,1,0,0,0,1,0,1,1], \n",
    "        'Gene D':[0,1,0,0,0,1,1,0,0,0,1,1,0,1,1], \n",
    "        'Class': [0,0,1,1,1,0,1,0,1,1,1,1,1,0,'']}\n",
    "df = pd.DataFrame(data)\n",
    "df"
   ]
  },
  {
   "cell_type": "code",
   "execution_count": 2,
   "id": "24378718",
   "metadata": {},
   "outputs": [],
   "source": [
    "data = np.array(df)"
   ]
  },
  {
   "cell_type": "raw",
   "id": "205dda57",
   "metadata": {},
   "source": [
    "P(Xi|0) and P(Xi|1)"
   ]
  },
  {
   "cell_type": "code",
   "execution_count": 3,
   "id": "4a667528",
   "metadata": {},
   "outputs": [],
   "source": [
    "train = data[0:14,1:]\n",
    "test = data[14:,1:]"
   ]
  },
  {
   "cell_type": "code",
   "execution_count": 4,
   "id": "d24569b7",
   "metadata": {},
   "outputs": [],
   "source": [
    "x = train[:,:4]\n",
    "y = train[:,4]"
   ]
  },
  {
   "cell_type": "raw",
   "id": "be350a75",
   "metadata": {},
   "source": [
    "P ( Gene A | 0 ) and P ( Gene B | 1 )\n",
    "Lets try to find for one feature and Class NORMAL"
   ]
  },
  {
   "cell_type": "code",
   "execution_count": 5,
   "id": "2a110ff4",
   "metadata": {},
   "outputs": [],
   "source": [
    "normal_value_0 = 0\n",
    "normal_value_1 = 0\n",
    "normal_value_neg1 = 0\n",
    "\n",
    "# FOR CLASS NORMAL OR 0\n",
    "\n",
    "for i  in range(0,14):\n",
    "    if x[i][0] == 0 and y[i] == 0:\n",
    "        normal_value_0 += 1\n",
    "    elif x[i][0] == 1 and y[i] == 0:\n",
    "        normal_value_1 += 1\n",
    "    elif x[i][0] == -1 and y[i] == 0:\n",
    "        normal_value_neg1 +=1"
   ]
  },
  {
   "cell_type": "code",
   "execution_count": 6,
   "id": "080699f9",
   "metadata": {},
   "outputs": [
    {
     "data": {
      "text/plain": [
       "0"
      ]
     },
     "execution_count": 6,
     "metadata": {},
     "output_type": "execute_result"
    }
   ],
   "source": [
    "normal_value_0"
   ]
  },
  {
   "cell_type": "code",
   "execution_count": 7,
   "id": "e1b1b8af",
   "metadata": {},
   "outputs": [
    {
     "data": {
      "text/plain": [
       "3"
      ]
     },
     "execution_count": 7,
     "metadata": {},
     "output_type": "execute_result"
    }
   ],
   "source": [
    "normal_value_1"
   ]
  },
  {
   "cell_type": "code",
   "execution_count": 8,
   "id": "a0d1363c",
   "metadata": {},
   "outputs": [
    {
     "data": {
      "text/plain": [
       "2"
      ]
     },
     "execution_count": 8,
     "metadata": {},
     "output_type": "execute_result"
    }
   ],
   "source": [
    "normal_value_neg1"
   ]
  },
  {
   "cell_type": "raw",
   "id": "6187043f",
   "metadata": {},
   "source": [
    "Let's Find the PROBABILITY of both our features"
   ]
  },
  {
   "cell_type": "code",
   "execution_count": 9,
   "id": "6e7f2d98",
   "metadata": {},
   "outputs": [
    {
     "name": "stdout",
     "output_type": "stream",
     "text": [
      "P(Normal) 0.35714285714285715\n",
      "P(Tumor) 0.6428571428571429\n"
     ]
    }
   ],
   "source": [
    "normal = 0\n",
    "tumor = 0\n",
    "for i  in range(0,14):\n",
    "    if y[i] == 0:\n",
    "        normal += 1 \n",
    "    else:\n",
    "        tumor += 1\n",
    "P_N = normal/(normal+tumor)\n",
    "P_T = tumor/(normal+tumor)\n",
    "print('P(Normal)' , P_N)\n",
    "print('P(Tumor)' , P_T )"
   ]
  },
  {
   "cell_type": "code",
   "execution_count": 10,
   "id": "353983fe",
   "metadata": {},
   "outputs": [
    {
     "data": {
      "text/plain": [
       "(0.35714285714285715, 0.6428571428571429)"
      ]
     },
     "execution_count": 10,
     "metadata": {},
     "output_type": "execute_result"
    }
   ],
   "source": [
    "5/14 , 9/14 # Works fine "
   ]
  },
  {
   "cell_type": "code",
   "execution_count": 11,
   "id": "828cc728",
   "metadata": {},
   "outputs": [
    {
     "data": {
      "text/plain": [
       "(5, 9)"
      ]
     },
     "execution_count": 11,
     "metadata": {},
     "output_type": "execute_result"
    }
   ],
   "source": [
    "normal , tumor"
   ]
  },
  {
   "cell_type": "raw",
   "id": "1d71b8f9",
   "metadata": {},
   "source": [
    "Creating two dataframe / array { for class Normal , Tumor }\n",
    "to store the the occurance of each event\n",
    "with respect to each Gene Expression ( -1 , 0 , +1 )"
   ]
  },
  {
   "cell_type": "code",
   "execution_count": 12,
   "id": "54935086",
   "metadata": {},
   "outputs": [],
   "source": [
    "# DATA FRAME FOR CLASS NORMAL\n",
    "data_normal = {'Expression':[1,0,-1],\n",
    "        'Gene A':[0,0,0],\n",
    "        'Gene B':[0,0,0], \n",
    "        'Gene C':[0,0,0], \n",
    "        'Gene D':[0,0,0] }\n",
    "df_normal = pd.DataFrame(data_normal)\n",
    "\n",
    "# DATA FRAME FOR CLASS TUMOR\n",
    "data_tumor = {'Expression':[1,0,-1],\n",
    "        'Gene A':[0,0,0],\n",
    "        'Gene B':[0,0,0], \n",
    "        'Gene C':[0,0,0], \n",
    "        'Gene D':[0,0,0] }\n",
    "df_tumor = pd.DataFrame(data_tumor)"
   ]
  },
  {
   "cell_type": "code",
   "execution_count": 13,
   "id": "b68bf3da",
   "metadata": {},
   "outputs": [],
   "source": [
    "output_array_normal = np.array(df_normal)"
   ]
  },
  {
   "cell_type": "code",
   "execution_count": 14,
   "id": "e0220f3a",
   "metadata": {},
   "outputs": [
    {
     "data": {
      "text/plain": [
       "array([[ 1,  0,  0,  0,  0],\n",
       "       [ 0,  0,  0,  0,  0],\n",
       "       [-1,  0,  0,  0,  0]], dtype=int64)"
      ]
     },
     "execution_count": 14,
     "metadata": {},
     "output_type": "execute_result"
    }
   ],
   "source": [
    "output_array_normal"
   ]
  },
  {
   "cell_type": "raw",
   "id": "a35dd50f",
   "metadata": {},
   "source": [
    "Let's write the code that counts the occurance of each event"
   ]
  },
  {
   "cell_type": "code",
   "execution_count": 15,
   "id": "1cfc7b8c",
   "metadata": {},
   "outputs": [],
   "source": [
    "# FOR CLASSN \" NORMAL OR 0 \"\n",
    "for j in range(0,4):\n",
    "    for i  in range(0,14):\n",
    "        if x[i][j] == 1 and y[i] == 0:\n",
    "            output_array_normal[0,(j+1)] += 1\n",
    "        elif x[i][j] == 0 and y[i] == 0:\n",
    "            output_array_normal[1,(j+1)] += 1\n",
    "        elif x[i][j] == -1 and y[i] == 0:\n",
    "            output_array_normal[2,(j+1)] +=1"
   ]
  },
  {
   "cell_type": "code",
   "execution_count": 16,
   "id": "a9b9c61f",
   "metadata": {},
   "outputs": [
    {
     "data": {
      "text/plain": [
       "array([[ 1,  3,  2,  4,  3],\n",
       "       [ 0,  0,  2,  1,  2],\n",
       "       [-1,  2,  1,  0,  0]], dtype=int64)"
      ]
     },
     "execution_count": 16,
     "metadata": {},
     "output_type": "execute_result"
    }
   ],
   "source": [
    "output_array_normal"
   ]
  },
  {
   "cell_type": "code",
   "execution_count": 17,
   "id": "70c2993c",
   "metadata": {},
   "outputs": [],
   "source": [
    "output_array_tumor = np.array(df_tumor)"
   ]
  },
  {
   "cell_type": "code",
   "execution_count": 18,
   "id": "78c10974",
   "metadata": {},
   "outputs": [],
   "source": [
    "# FOR CLASS \" TUMOR OR 1 \"\n",
    "for j in range(0,4):\n",
    "    for i  in range(0,14):\n",
    "        if x[i][j] == 1 and y[i] == 1:\n",
    "            output_array_tumor[0,(j+1)] += 1\n",
    "        elif x[i][j] == 0 and y[i] == 1:\n",
    "            output_array_tumor[1,(j+1)] += 1\n",
    "        elif x[i][j] == -1 and y[i] == 1:\n",
    "            output_array_tumor[2,(j+1)] +=1"
   ]
  },
  {
   "cell_type": "code",
   "execution_count": 19,
   "id": "e8353f13",
   "metadata": {},
   "outputs": [
    {
     "data": {
      "text/plain": [
       "array([[ 1,  2,  2,  3,  3],\n",
       "       [ 0,  4,  4,  6,  6],\n",
       "       [-1,  3,  3,  0,  0]], dtype=int64)"
      ]
     },
     "execution_count": 19,
     "metadata": {},
     "output_type": "execute_result"
    }
   ],
   "source": [
    "output_array_tumor"
   ]
  },
  {
   "cell_type": "raw",
   "id": "033ff2b9",
   "metadata": {},
   "source": [
    "Let's create a function that calculates the probability \n",
    "for each event for all the 4 features {GENE A , GENE B , GENE C , GENE D}\n",
    "and store it as an array"
   ]
  },
  {
   "cell_type": "code",
   "execution_count": 20,
   "id": "8b1f5d86",
   "metadata": {},
   "outputs": [],
   "source": [
    "prob_normal = {}\n",
    "prob_tumor = {}\n",
    "def probability(*feature_num):\n",
    "    list_normal = []\n",
    "    list_tumor = []\n",
    "    for i in range(3):\n",
    "        list_normal.append(output_array_normal[i,feature_num]/normal)\n",
    "        list_tumor.append(output_array_tumor[i,feature_num]/tumor)\n",
    "        prob_normal = np.array(list_normal)\n",
    "        prob_tumor = np.array(list_tumor)\n",
    "    return (('NORMAL' , prob_normal) , ('TUMOR' ,prob_tumor))"
   ]
  },
  {
   "cell_type": "code",
   "execution_count": 21,
   "id": "d00d637b",
   "metadata": {},
   "outputs": [
    {
     "data": {
      "text/plain": [
       "(('NORMAL',\n",
       "  array([[0.6, 0.4, 0.8, 0.6],\n",
       "         [0. , 0.4, 0.2, 0.4],\n",
       "         [0.4, 0.2, 0. , 0. ]])),\n",
       " ('TUMOR',\n",
       "  array([[0.22222222, 0.22222222, 0.33333333, 0.33333333],\n",
       "         [0.44444444, 0.44444444, 0.66666667, 0.66666667],\n",
       "         [0.33333333, 0.33333333, 0.        , 0.        ]])))"
      ]
     },
     "execution_count": 21,
     "metadata": {},
     "output_type": "execute_result"
    }
   ],
   "source": [
    "probability(1,2,3,4)"
   ]
  },
  {
   "cell_type": "code",
   "execution_count": 44,
   "id": "2b1dfea4",
   "metadata": {},
   "outputs": [],
   "source": [
    "def testing(Gene):\n",
    "    test_prob_normal = []\n",
    "    test_prob_tumor = []\n",
    "    for i in range(3):\n",
    "        test_prob_normal.append((output_array_normal[i,Gene]/normal)*P_N)\n",
    "        test_prob_tumor.append((output_array_tumor[i,Gene]/tumor)*P_T)\n",
    "    if test_prob_normal > test_prob_tumor:\n",
    "        return \"Class Normal\" , test_prob_normal \n",
    "    else:\n",
    "        return \"Class Tumor\" , test_prob_tumor"
   ]
  },
  {
   "cell_type": "code",
   "execution_count": 51,
   "id": "24937bda",
   "metadata": {},
   "outputs": [
    {
     "data": {
      "text/plain": [
       "('Class Normal', [0.21428571428571427, 0.0, 0.14285714285714288])"
      ]
     },
     "execution_count": 51,
     "metadata": {},
     "output_type": "execute_result"
    }
   ],
   "source": [
    "testing(1)"
   ]
  },
  {
   "cell_type": "markdown",
   "id": "36163240",
   "metadata": {},
   "source": [
    "# Naive Bayes' using SK-learn"
   ]
  },
  {
   "cell_type": "code",
   "execution_count": 47,
   "id": "3adab270",
   "metadata": {},
   "outputs": [],
   "source": [
    "y = y.astype('int')\n",
    "x_test = test[:,:4]\n",
    "from sklearn.naive_bayes import GaussianNB\n",
    "gnb = GaussianNB()\n",
    "gnb.fit(x, y)\n",
    "y_pred = gnb.predict(x_test)"
   ]
  },
  {
   "cell_type": "code",
   "execution_count": 49,
   "id": "0ec1a75c",
   "metadata": {},
   "outputs": [
    {
     "data": {
      "text/plain": [
       "array([0])"
      ]
     },
     "execution_count": 49,
     "metadata": {},
     "output_type": "execute_result"
    }
   ],
   "source": [
    "y_pred # Normal"
   ]
  }
 ],
 "metadata": {
  "kernelspec": {
   "display_name": "Python 3 (ipykernel)",
   "language": "python",
   "name": "python3"
  },
  "language_info": {
   "codemirror_mode": {
    "name": "ipython",
    "version": 3
   },
   "file_extension": ".py",
   "mimetype": "text/x-python",
   "name": "python",
   "nbconvert_exporter": "python",
   "pygments_lexer": "ipython3",
   "version": "3.9.12"
  }
 },
 "nbformat": 4,
 "nbformat_minor": 5
}
