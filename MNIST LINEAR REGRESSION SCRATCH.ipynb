{
 "cells": [
  {
   "cell_type": "code",
   "execution_count": 1,
   "id": "05c5ba65",
   "metadata": {},
   "outputs": [],
   "source": [
    "# Make the imports (data , libraries)\n",
    "# Preprocess the data \n",
    "# Build the model \n",
    "    # cost function\n",
    "    # derivatives of both m and c\n",
    "    # update m and c for gradient descent \n",
    "# Make predictions"
   ]
  },
  {
   "cell_type": "markdown",
   "id": "5c84838a",
   "metadata": {},
   "source": [
    "# Imports"
   ]
  },
  {
   "cell_type": "code",
   "execution_count": 2,
   "id": "29aa02c9",
   "metadata": {},
   "outputs": [],
   "source": [
    "import numpy as np\n",
    "import pandas as pd\n",
    "import matplotlib.pyplot as plt"
   ]
  },
  {
   "cell_type": "code",
   "execution_count": 3,
   "id": "6c14a10d",
   "metadata": {},
   "outputs": [],
   "source": [
    "df = pd.read_csv(r'C:\\Users\\bhavy\\OneDrive\\Desktop\\SEM 3\\MACHINE LEARNING\\data set\\Real estate.csv')"
   ]
  },
  {
   "cell_type": "code",
   "execution_count": 4,
   "id": "02e4fef1",
   "metadata": {},
   "outputs": [
    {
     "data": {
      "text/html": [
       "<div>\n",
       "<style scoped>\n",
       "    .dataframe tbody tr th:only-of-type {\n",
       "        vertical-align: middle;\n",
       "    }\n",
       "\n",
       "    .dataframe tbody tr th {\n",
       "        vertical-align: top;\n",
       "    }\n",
       "\n",
       "    .dataframe thead th {\n",
       "        text-align: right;\n",
       "    }\n",
       "</style>\n",
       "<table border=\"1\" class=\"dataframe\">\n",
       "  <thead>\n",
       "    <tr style=\"text-align: right;\">\n",
       "      <th></th>\n",
       "      <th>No</th>\n",
       "      <th>X1 transaction date</th>\n",
       "      <th>X2 house age</th>\n",
       "      <th>X3 distance to the nearest MRT station</th>\n",
       "      <th>X4 number of convenience stores</th>\n",
       "      <th>X5 latitude</th>\n",
       "      <th>X6 longitude</th>\n",
       "      <th>Y house price of unit area</th>\n",
       "    </tr>\n",
       "  </thead>\n",
       "  <tbody>\n",
       "    <tr>\n",
       "      <th>0</th>\n",
       "      <td>1</td>\n",
       "      <td>2012.917</td>\n",
       "      <td>32.0</td>\n",
       "      <td>84.87882</td>\n",
       "      <td>10</td>\n",
       "      <td>24.98298</td>\n",
       "      <td>121.54024</td>\n",
       "      <td>37.9</td>\n",
       "    </tr>\n",
       "    <tr>\n",
       "      <th>1</th>\n",
       "      <td>2</td>\n",
       "      <td>2012.917</td>\n",
       "      <td>19.5</td>\n",
       "      <td>306.59470</td>\n",
       "      <td>9</td>\n",
       "      <td>24.98034</td>\n",
       "      <td>121.53951</td>\n",
       "      <td>42.2</td>\n",
       "    </tr>\n",
       "    <tr>\n",
       "      <th>2</th>\n",
       "      <td>3</td>\n",
       "      <td>2013.583</td>\n",
       "      <td>13.3</td>\n",
       "      <td>561.98450</td>\n",
       "      <td>5</td>\n",
       "      <td>24.98746</td>\n",
       "      <td>121.54391</td>\n",
       "      <td>47.3</td>\n",
       "    </tr>\n",
       "    <tr>\n",
       "      <th>3</th>\n",
       "      <td>4</td>\n",
       "      <td>2013.500</td>\n",
       "      <td>13.3</td>\n",
       "      <td>561.98450</td>\n",
       "      <td>5</td>\n",
       "      <td>24.98746</td>\n",
       "      <td>121.54391</td>\n",
       "      <td>54.8</td>\n",
       "    </tr>\n",
       "    <tr>\n",
       "      <th>4</th>\n",
       "      <td>5</td>\n",
       "      <td>2012.833</td>\n",
       "      <td>5.0</td>\n",
       "      <td>390.56840</td>\n",
       "      <td>5</td>\n",
       "      <td>24.97937</td>\n",
       "      <td>121.54245</td>\n",
       "      <td>43.1</td>\n",
       "    </tr>\n",
       "  </tbody>\n",
       "</table>\n",
       "</div>"
      ],
      "text/plain": [
       "   No  X1 transaction date  X2 house age  \\\n",
       "0   1             2012.917          32.0   \n",
       "1   2             2012.917          19.5   \n",
       "2   3             2013.583          13.3   \n",
       "3   4             2013.500          13.3   \n",
       "4   5             2012.833           5.0   \n",
       "\n",
       "   X3 distance to the nearest MRT station  X4 number of convenience stores  \\\n",
       "0                                84.87882                               10   \n",
       "1                               306.59470                                9   \n",
       "2                               561.98450                                5   \n",
       "3                               561.98450                                5   \n",
       "4                               390.56840                                5   \n",
       "\n",
       "   X5 latitude  X6 longitude  Y house price of unit area  \n",
       "0     24.98298     121.54024                        37.9  \n",
       "1     24.98034     121.53951                        42.2  \n",
       "2     24.98746     121.54391                        47.3  \n",
       "3     24.98746     121.54391                        54.8  \n",
       "4     24.97937     121.54245                        43.1  "
      ]
     },
     "execution_count": 4,
     "metadata": {},
     "output_type": "execute_result"
    }
   ],
   "source": [
    "df.head()"
   ]
  },
  {
   "cell_type": "markdown",
   "id": "1638e9c5",
   "metadata": {},
   "source": [
    "# Data Preprocessing"
   ]
  },
  {
   "cell_type": "code",
   "execution_count": 5,
   "id": "d97d0c74",
   "metadata": {},
   "outputs": [
    {
     "data": {
      "text/plain": [
       "No                                        0\n",
       "X1 transaction date                       0\n",
       "X2 house age                              0\n",
       "X3 distance to the nearest MRT station    0\n",
       "X4 number of convenience stores           0\n",
       "X5 latitude                               0\n",
       "X6 longitude                              0\n",
       "Y house price of unit area                0\n",
       "dtype: int64"
      ]
     },
     "execution_count": 5,
     "metadata": {},
     "output_type": "execute_result"
    }
   ],
   "source": [
    "df.isnull().sum()"
   ]
  },
  {
   "cell_type": "code",
   "execution_count": 6,
   "id": "bf574101",
   "metadata": {},
   "outputs": [
    {
     "name": "stdout",
     "output_type": "stream",
     "text": [
      "<class 'pandas.core.frame.DataFrame'>\n",
      "RangeIndex: 414 entries, 0 to 413\n",
      "Data columns (total 8 columns):\n",
      " #   Column                                  Non-Null Count  Dtype  \n",
      "---  ------                                  --------------  -----  \n",
      " 0   No                                      414 non-null    int64  \n",
      " 1   X1 transaction date                     414 non-null    float64\n",
      " 2   X2 house age                            414 non-null    float64\n",
      " 3   X3 distance to the nearest MRT station  414 non-null    float64\n",
      " 4   X4 number of convenience stores         414 non-null    int64  \n",
      " 5   X5 latitude                             414 non-null    float64\n",
      " 6   X6 longitude                            414 non-null    float64\n",
      " 7   Y house price of unit area              414 non-null    float64\n",
      "dtypes: float64(6), int64(2)\n",
      "memory usage: 26.0 KB\n"
     ]
    }
   ],
   "source": [
    "df.info()"
   ]
  },
  {
   "cell_type": "code",
   "execution_count": 7,
   "id": "b2a7ae9a",
   "metadata": {},
   "outputs": [],
   "source": [
    "df.drop(['No'] , inplace = True , axis = 1)"
   ]
  },
  {
   "cell_type": "markdown",
   "id": "b42a5d06",
   "metadata": {},
   "source": [
    "# Split the Data"
   ]
  },
  {
   "cell_type": "code",
   "execution_count": 8,
   "id": "e806df75",
   "metadata": {},
   "outputs": [],
   "source": [
    "train = df.sample(frac = 0.8)\n",
    "test = df.drop(train.index)"
   ]
  },
  {
   "cell_type": "code",
   "execution_count": 9,
   "id": "9e74281d",
   "metadata": {},
   "outputs": [
    {
     "data": {
      "text/plain": [
       "((331, 7), (83, 7))"
      ]
     },
     "execution_count": 9,
     "metadata": {},
     "output_type": "execute_result"
    }
   ],
   "source": [
    "train.shape , test.shape"
   ]
  },
  {
   "cell_type": "code",
   "execution_count": 10,
   "id": "e5a19a75",
   "metadata": {},
   "outputs": [],
   "source": [
    "X = np.array(train.iloc[:,:6])\n",
    "Y = np.array(train.iloc[:,6])\n",
    "x_test = np.array(test.iloc[:,:6])\n",
    "y_test = np.array(test.iloc[:,6])"
   ]
  },
  {
   "cell_type": "code",
   "execution_count": 11,
   "id": "0ab288ef",
   "metadata": {},
   "outputs": [
    {
     "data": {
      "text/plain": [
       "((331, 6), (331,), 2, 1)"
      ]
     },
     "execution_count": 11,
     "metadata": {},
     "output_type": "execute_result"
    }
   ],
   "source": [
    "X.shape , Y.shape , X.ndim , Y.ndim"
   ]
  },
  {
   "cell_type": "code",
   "execution_count": 12,
   "id": "855ca789",
   "metadata": {},
   "outputs": [
    {
     "data": {
      "text/plain": [
       "array([2013.333  ,   34.5    ,  324.9419 ,    6.     ,   24.97814,\n",
       "        121.5417 ])"
      ]
     },
     "execution_count": 12,
     "metadata": {},
     "output_type": "execute_result"
    }
   ],
   "source": [
    "X[0]"
   ]
  },
  {
   "cell_type": "code",
   "execution_count": 13,
   "id": "431b9cad",
   "metadata": {},
   "outputs": [],
   "source": [
    "X = (X-X.mean())/X.std()"
   ]
  },
  {
   "cell_type": "code",
   "execution_count": 14,
   "id": "603d35dc",
   "metadata": {},
   "outputs": [
    {
     "data": {
      "text/plain": [
       "array([[ 1.59730523, -0.55909292, -0.24258901, -0.59015029, -0.5694692 ,\n",
       "        -0.46424077],\n",
       "       [ 1.59739677, -0.59200283, -0.12588239, -0.58906055, -0.56946662,\n",
       "        -0.46424504],\n",
       "       [ 1.59657947, -0.56105444, -0.16902773, -0.59015029, -0.56948463,\n",
       "        -0.4642399 ],\n",
       "       ...,\n",
       "       [ 1.59730523, -0.58339395,  0.88549866, -0.59559895, -0.56949764,\n",
       "        -0.46423345],\n",
       "       [ 1.59748721, -0.58186832, -0.24898694, -0.59015029, -0.56948357,\n",
       "        -0.4642396 ],\n",
       "       [ 1.59694235, -0.59559895, -0.38573341, -0.59015029, -0.56948274,\n",
       "        -0.46424165]])"
      ]
     },
     "execution_count": 14,
     "metadata": {},
     "output_type": "execute_result"
    }
   ],
   "source": [
    "X"
   ]
  },
  {
   "cell_type": "code",
   "execution_count": 15,
   "id": "14dbcdb2",
   "metadata": {
    "scrolled": true
   },
   "outputs": [
    {
     "data": {
      "text/plain": [
       "1"
      ]
     },
     "execution_count": 15,
     "metadata": {},
     "output_type": "execute_result"
    }
   ],
   "source": [
    "X[0].ndim"
   ]
  },
  {
   "cell_type": "code",
   "execution_count": 19,
   "id": "26ca7632",
   "metadata": {},
   "outputs": [],
   "source": [
    "class LinearRegression:\n",
    "    \n",
    "    def __init__(self , lr = 0.001 , n_iters = 2000):\n",
    "        self.lr = lr\n",
    "        self.n_iters = n_iters\n",
    "        self.weights = None\n",
    "        self.bias = None\n",
    "        \n",
    "\n",
    "    #Let's define Mean Squared Error\n",
    "    def mse(self,Y , y_predicted):\n",
    "        sum_ = 0\n",
    "        n = len(Y)\n",
    "        for i in range(n):\n",
    "            sum_ += (Y[i] - y_predicted[i])**2\n",
    "        return (1/n)*sum_\n",
    "    \n",
    "    #Let's define a function to predict y\n",
    "        \n",
    "    def fit(self,X,Y, lr = 0.001 , n_iters = 2000):\n",
    "        #initiate parameter\n",
    "        n_samples , n_features = X.shape\n",
    "        self.weights = np.ones(n_features) #we need 6 weights\n",
    "        self.bias = 0 # assumed zero\n",
    "        \n",
    "        # empty list to store total loss\n",
    "        self.total_loss = []\n",
    "        \n",
    "        for _ in range(self.n_iters):\n",
    "            # y = wx + b\n",
    "            y_predicted = np.dot(X , self.weights) + self.bias \n",
    "            loss = (y_predicted - Y)/len(Y)\n",
    "            \n",
    "            # derivative wrt weights or (slope m)\n",
    "            # I have omitted the 2 , used np.dot for sum product\n",
    "            dw = np.dot(X.T , loss)\n",
    "            \n",
    "            # derivative wrt bias or (intercept c)\n",
    "            # I have omitted the 2 again \n",
    "            db = np.sum(loss)\n",
    "            \n",
    "            # Gradient Descent - iterative process \n",
    "            # Let's update the m and c (w and b)\n",
    "            # m = m - (learning_rate * dm) and similarily for c\n",
    "#             print(self.weights,self.bias)                     \n",
    "            self.weights -= (self.lr * dw)\n",
    "            self.bias -= (self.lr * db)\n",
    "#             y_predicted = np.dot(X , self.weights) + self.bias\n",
    "#             print(y_predicted,\"fd\",Y)\n",
    "            mse = ((y_predicted-Y)**2).mean()\n",
    "            #call mse function\n",
    "            self.total_loss.append(mse)\n",
    "\n"
   ]
  },
  {
   "cell_type": "code",
   "execution_count": 20,
   "id": "38b1c716",
   "metadata": {},
   "outputs": [],
   "source": [
    "reg = LinearRegression(lr=0.01,n_iters=10000)\n",
    "reg.fit(X,Y)"
   ]
  },
  {
   "cell_type": "code",
   "execution_count": 21,
   "id": "d5926e9f",
   "metadata": {},
   "outputs": [
    {
     "data": {
      "text/plain": [
       "array([14.77123138, -6.84735697, -6.56638597, -3.40533442, -3.88666944,\n",
       "       -2.98665012])"
      ]
     },
     "execution_count": 21,
     "metadata": {},
     "output_type": "execute_result"
    }
   ],
   "source": [
    "reg.weights"
   ]
  },
  {
   "cell_type": "code",
   "execution_count": 22,
   "id": "ac4d89e7",
   "metadata": {},
   "outputs": [
    {
     "data": {
      "text/plain": [
       "[<matplotlib.lines.Line2D at 0x18a9c5200a0>]"
      ]
     },
     "execution_count": 22,
     "metadata": {},
     "output_type": "execute_result"
    },
    {
     "data": {
      "image/png": "[encoded data removed]",
      "text/plain": [
       "<Figure size 432x288 with 1 Axes>"
      ]
     },
     "metadata": {
      "needs_background": "light"
     },
     "output_type": "display_data"
    }
   ],
   "source": [
    "plt.plot(np.arange(1,10001),reg.total_loss,\"r\")"
   ]
  }
 ],
 "metadata": {
  "kernelspec": {
   "display_name": "Python 3 (ipykernel)",
   "language": "python",
   "name": "python3"
  },
  "language_info": {
   "codemirror_mode": {
    "name": "ipython",
    "version": 3
   },
   "file_extension": ".py",
   "mimetype": "text/x-python",
   "name": "python",
   "nbconvert_exporter": "python",
   "pygments_lexer": "ipython3",
   "version": "3.9.12"
  }
 },
 "nbformat": 4,
 "nbformat_minor": 5
}
