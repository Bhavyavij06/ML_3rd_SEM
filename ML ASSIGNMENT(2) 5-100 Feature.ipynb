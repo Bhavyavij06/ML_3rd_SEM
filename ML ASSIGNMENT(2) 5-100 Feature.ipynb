{
 "cells": [
  {
   "cell_type": "markdown",
   "id": "77c13df6",
   "metadata": {},
   "source": [
    "# 5 Features"
   ]
  },
  {
   "cell_type": "code",
   "execution_count": 1,
   "id": "b2605634",
   "metadata": {},
   "outputs": [],
   "source": [
    "import numpy as np\n",
    "qd_1 = np.random.uniform( 2 , 4 , size = (4 , 5)) #FIRST QUADRANT\n",
    "qd_3 = np.random.uniform( 0 , 2 , size = (4 , 5)) #THIRD QUADRANT\n",
    "\n",
    "mean_qd_1 = np.mean(qd_1 , axis = 0)\n",
    "mean_qd_3 = np.mean(qd_3 , axis = 0)\n"
   ]
  },
  {
   "cell_type": "code",
   "execution_count": 2,
   "id": "bdb80077",
   "metadata": {},
   "outputs": [],
   "source": [
    "def test(a,b,c,d,e):\n",
    "    dst_1=((mean_qd_1[0]-a)**2 + (mean_qd_1[1]-b)**2 + (mean_qd_1[2]-c)**2 + (mean_qd_1[3]-d)**2 + (mean_qd_1[4]-e)**2)**0.5\n",
    "    dst_2=((mean_qd_3[0]-a)**2 + (mean_qd_3[1]-b)**2 + (mean_qd_3[2]-c)**2 + (mean_qd_3[3]-d)**2 + (mean_qd_3[4]-e)**2)**0.5\n",
    "    if dst_1>=dst_2:\n",
    "        print('BELONG TO CLUSTER 1 IN QUADRANT I')\n",
    "    else:\n",
    "        print('BELONG TO CLUSTER 2 IN QUADRANT II')"
   ]
  },
  {
   "cell_type": "code",
   "execution_count": 3,
   "id": "dcf5f5b6",
   "metadata": {},
   "outputs": [
    {
     "name": "stdout",
     "output_type": "stream",
     "text": [
      "BELONG TO CLUSTER 2 IN QUADRANT II\n"
     ]
    }
   ],
   "source": [
    "test(2,2,2,2,2)"
   ]
  },
  {
   "cell_type": "markdown",
   "id": "dfe528de",
   "metadata": {},
   "source": [
    "# 100 Features"
   ]
  },
  {
   "cell_type": "code",
   "execution_count": 4,
   "id": "3f6490fa",
   "metadata": {},
   "outputs": [],
   "source": [
    "import numpy as np\n",
    "qd1 = np.random.uniform( 2 , 4 , size = (100,1000)) #FIRST QUADRANT\n",
    "qd3 = np.random.uniform( 0 , 2 , size = (100,1000)) #THIRD QUADRANT\n",
    "\n",
    "mean_qd1 = np.mean(qd1 , axis = 0)\n",
    "mean_qd3 = np.mean(qd3 , axis = 0)"
   ]
  },
  {
   "cell_type": "code",
   "execution_count": 5,
   "id": "94ca562d",
   "metadata": {},
   "outputs": [],
   "source": [
    "def test_feature(tst):\n",
    "    dist_tst_qd1 = np.sqrt(np.sum(np.square(np.subtract(mean_qd1 , tst))))\n",
    "    dist_tst_qd3 = np.sqrt(np.sum(np.square(np.subtract(mean_qd3 , tst))))\n",
    "    \n",
    "    if dist_tst_qd1 > dist_tst_qd3:\n",
    "        print(\"BELONG TO CLUSTER I IN QUADRANT 1\")\n",
    "    else:\n",
    "        print(\"BELONG TO CLUSTER II IN QUADRANT 3\")"
   ]
  },
  {
   "cell_type": "code",
   "execution_count": 8,
   "id": "5807512d",
   "metadata": {},
   "outputs": [],
   "source": [
    "tst = np.random.uniform(0 , 4 , size = (1000))"
   ]
  },
  {
   "cell_type": "code",
   "execution_count": 7,
   "id": "102a2af4",
   "metadata": {},
   "outputs": [
    {
     "name": "stdout",
     "output_type": "stream",
     "text": [
      "BELONG TO CLUSTER II IN QUADRANT 3\n"
     ]
    }
   ],
   "source": [
    "test_feature(tst)"
   ]
  }
 ],
 "metadata": {
  "kernelspec": {
   "display_name": "Python 3 (ipykernel)",
   "language": "python",
   "name": "python3"
  },
  "language_info": {
   "codemirror_mode": {
    "name": "ipython",
    "version": 3
   },
   "file_extension": ".py",
   "mimetype": "text/x-python",
   "name": "python",
   "nbconvert_exporter": "python",
   "pygments_lexer": "ipython3",
   "version": "3.9.12"
  }
 },
 "nbformat": 4,
 "nbformat_minor": 5
}
