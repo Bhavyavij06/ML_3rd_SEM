{
 "cells": [
  {
   "cell_type": "markdown",
   "id": "331fdd47",
   "metadata": {},
   "source": [
    "# Importing Library"
   ]
  },
  {
   "cell_type": "code",
   "execution_count": 1,
   "id": "94616dad",
   "metadata": {},
   "outputs": [],
   "source": [
    "import pandas as pd\n",
    "import numpy as np"
   ]
  },
  {
   "cell_type": "markdown",
   "id": "f709474d",
   "metadata": {},
   "source": [
    "# Import Dataset"
   ]
  },
  {
   "cell_type": "code",
   "execution_count": 2,
   "id": "c32e0306",
   "metadata": {},
   "outputs": [
    {
     "data": {
      "text/html": [
       "<div>\n",
       "<style scoped>\n",
       "    .dataframe tbody tr th:only-of-type {\n",
       "        vertical-align: middle;\n",
       "    }\n",
       "\n",
       "    .dataframe tbody tr th {\n",
       "        vertical-align: top;\n",
       "    }\n",
       "\n",
       "    .dataframe thead th {\n",
       "        text-align: right;\n",
       "    }\n",
       "</style>\n",
       "<table border=\"1\" class=\"dataframe\">\n",
       "  <thead>\n",
       "    <tr style=\"text-align: right;\">\n",
       "      <th></th>\n",
       "      <th>x1</th>\n",
       "      <th>x2</th>\n",
       "      <th>x3</th>\n",
       "      <th>x4</th>\n",
       "      <th>class</th>\n",
       "    </tr>\n",
       "  </thead>\n",
       "  <tbody>\n",
       "    <tr>\n",
       "      <th>0</th>\n",
       "      <td>5.1</td>\n",
       "      <td>3.5</td>\n",
       "      <td>1.4</td>\n",
       "      <td>0.2</td>\n",
       "      <td>Setosa</td>\n",
       "    </tr>\n",
       "    <tr>\n",
       "      <th>1</th>\n",
       "      <td>4.9</td>\n",
       "      <td>3.0</td>\n",
       "      <td>1.4</td>\n",
       "      <td>0.2</td>\n",
       "      <td>Setosa</td>\n",
       "    </tr>\n",
       "    <tr>\n",
       "      <th>2</th>\n",
       "      <td>4.7</td>\n",
       "      <td>3.2</td>\n",
       "      <td>1.3</td>\n",
       "      <td>0.2</td>\n",
       "      <td>Setosa</td>\n",
       "    </tr>\n",
       "    <tr>\n",
       "      <th>3</th>\n",
       "      <td>4.6</td>\n",
       "      <td>3.1</td>\n",
       "      <td>1.5</td>\n",
       "      <td>0.2</td>\n",
       "      <td>Setosa</td>\n",
       "    </tr>\n",
       "    <tr>\n",
       "      <th>4</th>\n",
       "      <td>5.0</td>\n",
       "      <td>3.6</td>\n",
       "      <td>1.4</td>\n",
       "      <td>0.2</td>\n",
       "      <td>Setosa</td>\n",
       "    </tr>\n",
       "    <tr>\n",
       "      <th>...</th>\n",
       "      <td>...</td>\n",
       "      <td>...</td>\n",
       "      <td>...</td>\n",
       "      <td>...</td>\n",
       "      <td>...</td>\n",
       "    </tr>\n",
       "    <tr>\n",
       "      <th>145</th>\n",
       "      <td>6.7</td>\n",
       "      <td>3.0</td>\n",
       "      <td>5.2</td>\n",
       "      <td>2.3</td>\n",
       "      <td>Virginica</td>\n",
       "    </tr>\n",
       "    <tr>\n",
       "      <th>146</th>\n",
       "      <td>6.3</td>\n",
       "      <td>2.5</td>\n",
       "      <td>5.0</td>\n",
       "      <td>1.9</td>\n",
       "      <td>Virginica</td>\n",
       "    </tr>\n",
       "    <tr>\n",
       "      <th>147</th>\n",
       "      <td>6.5</td>\n",
       "      <td>3.0</td>\n",
       "      <td>5.2</td>\n",
       "      <td>2.0</td>\n",
       "      <td>Virginica</td>\n",
       "    </tr>\n",
       "    <tr>\n",
       "      <th>148</th>\n",
       "      <td>6.2</td>\n",
       "      <td>3.4</td>\n",
       "      <td>5.4</td>\n",
       "      <td>2.3</td>\n",
       "      <td>Virginica</td>\n",
       "    </tr>\n",
       "    <tr>\n",
       "      <th>149</th>\n",
       "      <td>5.9</td>\n",
       "      <td>3.0</td>\n",
       "      <td>5.1</td>\n",
       "      <td>1.8</td>\n",
       "      <td>Virginica</td>\n",
       "    </tr>\n",
       "  </tbody>\n",
       "</table>\n",
       "<p>150 rows × 5 columns</p>\n",
       "</div>"
      ],
      "text/plain": [
       "      x1   x2   x3   x4      class\n",
       "0    5.1  3.5  1.4  0.2     Setosa\n",
       "1    4.9  3.0  1.4  0.2     Setosa\n",
       "2    4.7  3.2  1.3  0.2     Setosa\n",
       "3    4.6  3.1  1.5  0.2     Setosa\n",
       "4    5.0  3.6  1.4  0.2     Setosa\n",
       "..   ...  ...  ...  ...        ...\n",
       "145  6.7  3.0  5.2  2.3  Virginica\n",
       "146  6.3  2.5  5.0  1.9  Virginica\n",
       "147  6.5  3.0  5.2  2.0  Virginica\n",
       "148  6.2  3.4  5.4  2.3  Virginica\n",
       "149  5.9  3.0  5.1  1.8  Virginica\n",
       "\n",
       "[150 rows x 5 columns]"
      ]
     },
     "execution_count": 2,
     "metadata": {},
     "output_type": "execute_result"
    }
   ],
   "source": [
    "names = ['x1' , 'x2' , 'x3' , 'x4' , 'class']\n",
    "df = pd.read_excel(r'C:\\Users\\bhavy\\OneDrive\\Desktop\\SEM 3\\MACHINE LEARNING\\iris dataset.xlsx' , names=names)\n",
    "df"
   ]
  },
  {
   "cell_type": "markdown",
   "id": "162af58e",
   "metadata": {},
   "source": [
    "# Creating Classes"
   ]
  },
  {
   "cell_type": "code",
   "execution_count": 3,
   "id": "d02599e5",
   "metadata": {},
   "outputs": [
    {
     "data": {
      "text/plain": [
       "{'Setosa', 'Versicolor', 'Virginica'}"
      ]
     },
     "execution_count": 3,
     "metadata": {},
     "output_type": "execute_result"
    }
   ],
   "source": [
    "set_class = set(df['class'])\n",
    "set_class"
   ]
  },
  {
   "cell_type": "code",
   "execution_count": 4,
   "id": "e9063a45",
   "metadata": {},
   "outputs": [
    {
     "data": {
      "text/plain": [
       "{'Setosa': 1, 'Virginica': 2, 'Versicolor': 3}"
      ]
     },
     "execution_count": 4,
     "metadata": {},
     "output_type": "execute_result"
    }
   ],
   "source": [
    "val = [i+1 for i in range (len(set_class))]\n",
    "mapping = dict(zip(set_class,val))\n",
    "mapping"
   ]
  },
  {
   "cell_type": "code",
   "execution_count": 5,
   "id": "667665a8",
   "metadata": {},
   "outputs": [
    {
     "data": {
      "text/html": [
       "<div>\n",
       "<style scoped>\n",
       "    .dataframe tbody tr th:only-of-type {\n",
       "        vertical-align: middle;\n",
       "    }\n",
       "\n",
       "    .dataframe tbody tr th {\n",
       "        vertical-align: top;\n",
       "    }\n",
       "\n",
       "    .dataframe thead th {\n",
       "        text-align: right;\n",
       "    }\n",
       "</style>\n",
       "<table border=\"1\" class=\"dataframe\">\n",
       "  <thead>\n",
       "    <tr style=\"text-align: right;\">\n",
       "      <th></th>\n",
       "      <th>x1</th>\n",
       "      <th>x2</th>\n",
       "      <th>x3</th>\n",
       "      <th>x4</th>\n",
       "      <th>class</th>\n",
       "    </tr>\n",
       "  </thead>\n",
       "  <tbody>\n",
       "    <tr>\n",
       "      <th>0</th>\n",
       "      <td>5.1</td>\n",
       "      <td>3.5</td>\n",
       "      <td>1.4</td>\n",
       "      <td>0.2</td>\n",
       "      <td>1</td>\n",
       "    </tr>\n",
       "    <tr>\n",
       "      <th>1</th>\n",
       "      <td>4.9</td>\n",
       "      <td>3.0</td>\n",
       "      <td>1.4</td>\n",
       "      <td>0.2</td>\n",
       "      <td>1</td>\n",
       "    </tr>\n",
       "    <tr>\n",
       "      <th>2</th>\n",
       "      <td>4.7</td>\n",
       "      <td>3.2</td>\n",
       "      <td>1.3</td>\n",
       "      <td>0.2</td>\n",
       "      <td>1</td>\n",
       "    </tr>\n",
       "    <tr>\n",
       "      <th>3</th>\n",
       "      <td>4.6</td>\n",
       "      <td>3.1</td>\n",
       "      <td>1.5</td>\n",
       "      <td>0.2</td>\n",
       "      <td>1</td>\n",
       "    </tr>\n",
       "    <tr>\n",
       "      <th>4</th>\n",
       "      <td>5.0</td>\n",
       "      <td>3.6</td>\n",
       "      <td>1.4</td>\n",
       "      <td>0.2</td>\n",
       "      <td>1</td>\n",
       "    </tr>\n",
       "  </tbody>\n",
       "</table>\n",
       "</div>"
      ],
      "text/plain": [
       "    x1   x2   x3   x4  class\n",
       "0  5.1  3.5  1.4  0.2      1\n",
       "1  4.9  3.0  1.4  0.2      1\n",
       "2  4.7  3.2  1.3  0.2      1\n",
       "3  4.6  3.1  1.5  0.2      1\n",
       "4  5.0  3.6  1.4  0.2      1"
      ]
     },
     "execution_count": 5,
     "metadata": {},
     "output_type": "execute_result"
    }
   ],
   "source": [
    "df1 = df.replace({'class' : mapping})\n",
    "df1.head()"
   ]
  },
  {
   "cell_type": "markdown",
   "id": "144f0612",
   "metadata": {},
   "source": [
    "# Data Training"
   ]
  },
  {
   "cell_type": "code",
   "execution_count": 6,
   "id": "27127771",
   "metadata": {},
   "outputs": [],
   "source": [
    "iris_ds_array = df1.to_numpy()\n",
    "iris_data_array = iris_ds_array[0:150 , 0:4]"
   ]
  },
  {
   "cell_type": "code",
   "execution_count": 7,
   "id": "7839c62f",
   "metadata": {},
   "outputs": [],
   "source": [
    "tr1 = iris_data_array[0:40,:] #3\n",
    "tr2 = iris_data_array[50:90,:] #2\n",
    "tr3 = iris_data_array[100:140,:] #1\n",
    "\n",
    "ts1 = iris_data_array[40:50 , :] \n",
    "ts2 = iris_data_array[90:100 , :]\n",
    "ts3 = iris_data_array[140:150 , :]"
   ]
  },
  {
   "cell_type": "code",
   "execution_count": 8,
   "id": "f886785f",
   "metadata": {},
   "outputs": [],
   "source": [
    "train_array = np.concatenate((tr1, tr2, tr3))"
   ]
  },
  {
   "cell_type": "code",
   "execution_count": 9,
   "id": "10965b16",
   "metadata": {},
   "outputs": [],
   "source": [
    "cluster_1_mean = np.mean(tr1 , axis = 0)\n",
    "cluster_2_mean = np.mean(tr2 , axis = 0)\n",
    "cluster_3_mean = np.mean(tr3 , axis = 0)"
   ]
  },
  {
   "cell_type": "code",
   "execution_count": 10,
   "id": "bfad8f22",
   "metadata": {},
   "outputs": [],
   "source": [
    "test_array = np.concatenate((ts1, ts2, ts3))"
   ]
  },
  {
   "cell_type": "code",
   "execution_count": 11,
   "id": "2b8d9407",
   "metadata": {},
   "outputs": [
    {
     "data": {
      "text/plain": [
       "array([1, 1, 1, 1, 1, 1, 1, 1, 1, 1, 3, 3, 3, 3, 3, 3, 3, 3, 3, 3, 2, 2,\n",
       "       2, 2, 2, 2, 2, 2, 2, 2])"
      ]
     },
     "execution_count": 11,
     "metadata": {},
     "output_type": "execute_result"
    }
   ],
   "source": [
    "chk1 = iris_ds_array[40:50 , 4]\n",
    "chk2 = iris_ds_array[90:100 , 4]\n",
    "chk3 = iris_ds_array[140:150 , 4]\n",
    "array_chk = np.concatenate((chk1, chk2 ,  chk3))\n",
    "arr_chk = array_chk.astype('int32')\n",
    "arr_chk"
   ]
  },
  {
   "cell_type": "markdown",
   "id": "aefb492a",
   "metadata": {},
   "source": [
    "# Data Testing"
   ]
  },
  {
   "cell_type": "code",
   "execution_count": 17,
   "id": "9c2b1b0a",
   "metadata": {},
   "outputs": [],
   "source": [
    "lst = []\n",
    "def test_feature(tst):\n",
    "    dst_cluster_1 = np.array(np.sqrt(np.sum(np.square(np.subtract(cluster_1_mean , tst)))))\n",
    "    dst_cluster_2 = np.array(np.sqrt(np.sum(np.square(np.subtract(cluster_2_mean , tst)))))\n",
    "    dst_cluster_3 = np.array(np.sqrt(np.sum(np.square(np.subtract(cluster_3_mean , tst)))))\n",
    "\n",
    "    if dst_cluster_1 < dst_cluster_2 and dst_cluster_1 < dst_cluster_3:\n",
    "        lst.append(1)\n",
    "        #print(\"BELONGS TO IRIS SETOSA\")\n",
    "    elif dst_cluster_2 < dst_cluster_3 and dst_cluster_2 < dst_cluster_1:\n",
    "        lst.append(3)\n",
    "        #print(\"BELONGS TO IRIS VERSICOLOR\")\n",
    "    else:\n",
    "        lst.append(2)\n",
    "        #print(\"BELONGS TO IRIS VIRGINICA\")\n",
    "for i in range(len(test_array)):\n",
    "    test_feature(test_array[i])"
   ]
  },
  {
   "cell_type": "code",
   "execution_count": 18,
   "id": "deba0c93",
   "metadata": {},
   "outputs": [
    {
     "data": {
      "text/plain": [
       "array([1, 1, 1, 1, 1, 1, 1, 1, 1, 1, 3, 3, 3, 3, 3, 3, 3, 3, 3, 3, 2, 2,\n",
       "       3, 2, 2, 2, 2, 2, 2, 2])"
      ]
     },
     "execution_count": 18,
     "metadata": {},
     "output_type": "execute_result"
    }
   ],
   "source": [
    "output_array = np.array(lst)\n",
    "output_array = output_array.astype('int32')\n",
    "output_array"
   ]
  },
  {
   "cell_type": "code",
   "execution_count": 19,
   "id": "d8628325",
   "metadata": {},
   "outputs": [
    {
     "name": "stdout",
     "output_type": "stream",
     "text": [
      "correct =  29 : incorrect =  1\n",
      "Accuracy percentage of the algorithm is =  96.66666666666667\n"
     ]
    }
   ],
   "source": [
    "correct = 0\n",
    "incorrect = 0\n",
    "for i in range(len(arr_chk)):\n",
    "    if arr_chk[i] == output_array[i]:\n",
    "               correct+=1\n",
    "               \n",
    "accuracy = (correct/len(output_array))*100\n",
    "incorrect = len(arr_chk)-correct\n",
    "\n",
    "print('correct = ',correct,': incorrect = ', incorrect)\n",
    "print('Accuracy percentage of the algorithm is = ', accuracy)"
   ]
  }
 ],
 "metadata": {
  "kernelspec": {
   "display_name": "Python 3 (ipykernel)",
   "language": "python",
   "name": "python3"
  },
  "language_info": {
   "codemirror_mode": {
    "name": "ipython",
    "version": 3
   },
   "file_extension": ".py",
   "mimetype": "text/x-python",
   "name": "python",
   "nbconvert_exporter": "python",
   "pygments_lexer": "ipython3",
   "version": "3.9.12"
  }
 },
 "nbformat": 4,
 "nbformat_minor": 5
}
