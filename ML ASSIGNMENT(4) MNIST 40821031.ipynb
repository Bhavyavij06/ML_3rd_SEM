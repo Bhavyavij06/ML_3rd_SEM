{
 "cells": [
  {
   "cell_type": "markdown",
   "id": "cac03f5f",
   "metadata": {},
   "source": [
    "# Importing MNIST Dataset"
   ]
  },
  {
   "cell_type": "code",
   "execution_count": 3,
   "id": "e8deb4e2",
   "metadata": {},
   "outputs": [],
   "source": [
    "import pandas as pd\n",
    "import numpy as np\n",
    "train_data = pd.read_csv(r\"C:\\Users\\bhavy\\OneDrive\\Desktop\\SEM 3\\MACHINE LEARNING\\Data set\\mnist_train.csv\")\n",
    "test_data = pd.read_csv(r\"C:\\Users\\bhavy\\OneDrive\\Desktop\\SEM 3\\MACHINE LEARNING\\Data set\\mnist_test.csv\")"
   ]
  },
  {
   "cell_type": "markdown",
   "id": "f13fb9e8",
   "metadata": {},
   "source": [
    "# In Numpy"
   ]
  },
  {
   "cell_type": "code",
   "execution_count": 4,
   "id": "69b03be5",
   "metadata": {},
   "outputs": [],
   "source": [
    "train_numpy = train_data.to_numpy()\n",
    "test_numpy = test_data.to_numpy()\n",
    "train_label = np.unique(train_numpy[:,0])"
   ]
  },
  {
   "cell_type": "markdown",
   "id": "d391f9da",
   "metadata": {},
   "source": [
    "# Creating Clusters\n"
   ]
  },
  {
   "cell_type": "code",
   "execution_count": 5,
   "id": "3167a04d",
   "metadata": {},
   "outputs": [],
   "source": [
    "cluster = {}\n",
    "for i in train_label:\n",
    "    cluster[i] = train_numpy[np.where(train_numpy[:,0] == i)][:,:]"
   ]
  },
  {
   "cell_type": "markdown",
   "id": "f73a58a3",
   "metadata": {},
   "source": [
    "# Mean Calculation"
   ]
  },
  {
   "cell_type": "code",
   "execution_count": 6,
   "id": "f609b7e5",
   "metadata": {},
   "outputs": [],
   "source": [
    "mean = {}\n",
    "for i in cluster:\n",
    "    mean[i] = [np.mean(cluster[i] , axis = 0)]"
   ]
  },
  {
   "cell_type": "markdown",
   "id": "facce964",
   "metadata": {},
   "source": [
    "# Distance Calculation"
   ]
  },
  {
   "cell_type": "code",
   "execution_count": 7,
   "id": "b8171658",
   "metadata": {},
   "outputs": [],
   "source": [
    "def test(test_point):\n",
    "    x = [digit for digit in cluster.keys()]    \n",
    "    y = []\n",
    "    for digit in mean.keys():\n",
    "        y.append(np.sqrt(np.sum(np.square(np.subtract(mean[digit],test_point)))))  #distance from each cluster\n",
    "    dist= dict(zip(x,y))\n",
    "    for key in dist.keys():\n",
    "        if dist[key]==min(dist.values()):\n",
    "            return key"
   ]
  },
  {
   "cell_type": "code",
   "execution_count": 8,
   "id": "4c2088ea",
   "metadata": {},
   "outputs": [
    {
     "name": "stdout",
     "output_type": "stream",
     "text": [
      "[7 2 1 ... 4 5 6]\n"
     ]
    }
   ],
   "source": [
    "output = np.empty(0, dtype='int64')\n",
    "for data_point in test_numpy:\n",
    "    output = np.append(output,test(data_point))\n",
    "print(output)"
   ]
  },
  {
   "cell_type": "code",
   "execution_count": 15,
   "id": "c43b2c73",
   "metadata": {},
   "outputs": [
    {
     "data": {
      "text/plain": [
       "10000"
      ]
     },
     "execution_count": 15,
     "metadata": {},
     "output_type": "execute_result"
    }
   ],
   "source": [
    "len(output)"
   ]
  },
  {
   "cell_type": "code",
   "execution_count": 9,
   "id": "f42885a6",
   "metadata": {},
   "outputs": [],
   "source": [
    "#creating label\n",
    "test_label = test_numpy[:,0]"
   ]
  },
  {
   "cell_type": "code",
   "execution_count": 10,
   "id": "32473fa5",
   "metadata": {},
   "outputs": [],
   "source": [
    "correct = 0\n",
    "for i in range(len(test_label)):\n",
    "    if test_label[i] == output[i]:\n",
    "        correct += 1\n",
    "    else:\n",
    "        continue"
   ]
  },
  {
   "cell_type": "code",
   "execution_count": 11,
   "id": "468b32c7",
   "metadata": {},
   "outputs": [
    {
     "name": "stdout",
     "output_type": "stream",
     "text": [
      "8203\n"
     ]
    }
   ],
   "source": [
    "print(correct)"
   ]
  },
  {
   "cell_type": "code",
   "execution_count": 13,
   "id": "02c4d4c9",
   "metadata": {},
   "outputs": [
    {
     "data": {
      "text/plain": [
       "82.03"
      ]
     },
     "execution_count": 13,
     "metadata": {},
     "output_type": "execute_result"
    }
   ],
   "source": [
    "accuracy = (correct/len(test_numpy))*100\n",
    "accuracy"
   ]
  },
  {
   "cell_type": "code",
   "execution_count": 14,
   "id": "f74fb215",
   "metadata": {},
   "outputs": [
    {
     "name": "stdout",
     "output_type": "stream",
     "text": [
      "Total of number of 0 class =  6329761\n",
      "correct results for 0 class =  1064\n",
      "incorrect results for 0 class =  0\n",
      "Accuracy of 0 class is = 0.01680948143223733 %\n",
      "Total of number of 1 class =  4967\n",
      "correct results for 1 class =  1703\n",
      "incorrect results for 1 class =  0\n",
      "Accuracy of 1 class is = 34.28628951077109 %\n",
      "Total of number of 2 class =  6788\n",
      "correct results for 2 class =  1419\n",
      "incorrect results for 2 class =  908\n",
      "Accuracy of 2 class is = 20.904537418974662 %\n",
      "Total of number of 3 class =  7110\n",
      "correct results for 3 class =  0\n",
      "incorrect results for 3 class =  0\n",
      "Accuracy of 3 class is = 0.0 %\n",
      "Total of number of 4 class =  7353\n",
      "correct results for 4 class =  1955\n",
      "incorrect results for 4 class =  0\n",
      "Accuracy of 4 class is = 26.58778729770162 %\n",
      "Total of number of 5 class =  7527\n",
      "correct results for 5 class =  0\n",
      "incorrect results for 5 class =  0\n",
      "Accuracy of 5 class is = 0.0 %\n",
      "Total of number of 6 class =  7194\n",
      "correct results for 6 class =  0\n",
      "incorrect results for 6 class =  0\n",
      "Accuracy of 6 class is = 0.0 %\n",
      "Total of number of 7 class =  7615\n",
      "correct results for 7 class =  962\n",
      "incorrect results for 7 class =  0\n",
      "Accuracy of 7 class is = 12.632961260669731 %\n",
      "Total of number of 8 class =  5926\n",
      "correct results for 8 class =  0\n",
      "incorrect results for 8 class =  0\n",
      "Accuracy of 8 class is = 0.0 %\n",
      "Total of number of 9 class =  7421\n",
      "correct results for 9 class =  1989\n",
      "incorrect results for 9 class =  0\n",
      "Accuracy of 9 class is = 26.802317746934374 %\n"
     ]
    }
   ],
   "source": [
    "#calculating class wise accuracy\n",
    "unique = np.unique(test_label)\n",
    "for i in unique:\n",
    "    correct = 0\n",
    "    incorrect = 0\n",
    "    for j in output:\n",
    "        if unique[i] == output[j]:\n",
    "            if output[j] == test_label[j]:\n",
    "                correct += 1\n",
    "            else:\n",
    "                incorrect += 1\n",
    "    print(f'Total of number of {i} class = ',np.count_nonzero(test_numpy == i))\n",
    "    print(f'correct results for {i} class = ',correct)\n",
    "    print(f'incorrect results for {i} class = ',incorrect)\n",
    "    accuracy = np.multiply(np.divide(correct,np.count_nonzero(test_numpy == i)),100)\n",
    "    print(f\"Accuracy of {i} class is = {accuracy} %\")"
   ]
  },
  {
   "cell_type": "code",
   "execution_count": null,
   "id": "df54960c",
   "metadata": {},
   "outputs": [],
   "source": [
    "#calculating class wise accuracy\n",
    "for i in np.unique(test_label):\n",
    "    correct,incorrect=0,0\n",
    "    for j in range(10000):\n",
    "        if test_label[j] == i:\n",
    "            if output[j] == test_label[j]:\n",
    "                correct+=1\n",
    "            else:\n",
    "                incorrect+=1\n",
    "    print(f'Total of number of {i} class = ',np.count_nonzero(test_label == i))\n",
    "    print(f'correct results for {i} class = ',correct)\n",
    "    print(f'incorrect results for {i} class = ',incorrect)\n",
    "    accuracy = np.multiply(np.divide(correct,np.count_nonzero(test_l==i)),100)\n",
    "    print(f\"Accuracy of {i} class is = {accuracy} %\")"
   ]
  }
 ],
 "metadata": {
  "kernelspec": {
   "display_name": "Python 3 (ipykernel)",
   "language": "python",
   "name": "python3"
  },
  "language_info": {
   "codemirror_mode": {
    "name": "ipython",
    "version": 3
   },
   "file_extension": ".py",
   "mimetype": "text/x-python",
   "name": "python",
   "nbconvert_exporter": "python",
   "pygments_lexer": "ipython3",
   "version": "3.9.12"
  }
 },
 "nbformat": 4,
 "nbformat_minor": 5
}
